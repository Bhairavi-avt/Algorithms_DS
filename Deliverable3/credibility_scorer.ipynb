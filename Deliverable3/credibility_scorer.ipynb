{
  "nbformat": 4,
  "nbformat_minor": 0,
  "metadata": {
    "colab": {
      "provenance": []
    },
    "kernelspec": {
      "name": "python3",
      "display_name": "Python 3"
    },
    "language_info": {
      "name": "python"
    },
    "widgets": {
      "application/vnd.jupyter.widget-state+json": {
        "4518b71c6d6f41e88af5060db527e5d0": {
          "model_module": "@jupyter-widgets/controls",
          "model_name": "HBoxModel",
          "model_module_version": "1.5.0",
          "state": {
            "_dom_classes": [],
            "_model_module": "@jupyter-widgets/controls",
            "_model_module_version": "1.5.0",
            "_model_name": "HBoxModel",
            "_view_count": null,
            "_view_module": "@jupyter-widgets/controls",
            "_view_module_version": "1.5.0",
            "_view_name": "HBoxView",
            "box_style": "",
            "children": [
              "IPY_MODEL_6a0a96efa3984703890d304fe384563b",
              "IPY_MODEL_b7048700789f463683010f2373ec75f8",
              "IPY_MODEL_1df5351dd241434b8139cd42f8b0ee74"
            ],
            "layout": "IPY_MODEL_104e4a556bd64bf9892b429c91944c52"
          }
        },
        "6a0a96efa3984703890d304fe384563b": {
          "model_module": "@jupyter-widgets/controls",
          "model_name": "HTMLModel",
          "model_module_version": "1.5.0",
          "state": {
            "_dom_classes": [],
            "_model_module": "@jupyter-widgets/controls",
            "_model_module_version": "1.5.0",
            "_model_name": "HTMLModel",
            "_view_count": null,
            "_view_module": "@jupyter-widgets/controls",
            "_view_module_version": "1.5.0",
            "_view_name": "HTMLView",
            "description": "",
            "description_tooltip": null,
            "layout": "IPY_MODEL_89b141d4cfec46ae8c24907ab007a55a",
            "placeholder": "​",
            "style": "IPY_MODEL_f12b89d8e70f4279a3863ec49f0f0d42",
            "value": "model.keras: 100%"
          }
        },
        "b7048700789f463683010f2373ec75f8": {
          "model_module": "@jupyter-widgets/controls",
          "model_name": "FloatProgressModel",
          "model_module_version": "1.5.0",
          "state": {
            "_dom_classes": [],
            "_model_module": "@jupyter-widgets/controls",
            "_model_module_version": "1.5.0",
            "_model_name": "FloatProgressModel",
            "_view_count": null,
            "_view_module": "@jupyter-widgets/controls",
            "_view_module_version": "1.5.0",
            "_view_name": "ProgressView",
            "bar_style": "success",
            "description": "",
            "description_tooltip": null,
            "layout": "IPY_MODEL_ad453983ab9445d9aca7d82c3a5f250c",
            "max": 41988053,
            "min": 0,
            "orientation": "horizontal",
            "style": "IPY_MODEL_915bf50b74ca4463b6004b49dc4f4c83",
            "value": 41988053
          }
        },
        "1df5351dd241434b8139cd42f8b0ee74": {
          "model_module": "@jupyter-widgets/controls",
          "model_name": "HTMLModel",
          "model_module_version": "1.5.0",
          "state": {
            "_dom_classes": [],
            "_model_module": "@jupyter-widgets/controls",
            "_model_module_version": "1.5.0",
            "_model_name": "HTMLModel",
            "_view_count": null,
            "_view_module": "@jupyter-widgets/controls",
            "_view_module_version": "1.5.0",
            "_view_name": "HTMLView",
            "description": "",
            "description_tooltip": null,
            "layout": "IPY_MODEL_74ae7564a3244513ada4cada5da443b5",
            "placeholder": "​",
            "style": "IPY_MODEL_a17cc74617714eaf8b834dd183418cc7",
            "value": " 42.0M/42.0M [00:01&lt;00:00, 27.0MB/s]"
          }
        },
        "104e4a556bd64bf9892b429c91944c52": {
          "model_module": "@jupyter-widgets/base",
          "model_name": "LayoutModel",
          "model_module_version": "1.2.0",
          "state": {
            "_model_module": "@jupyter-widgets/base",
            "_model_module_version": "1.2.0",
            "_model_name": "LayoutModel",
            "_view_count": null,
            "_view_module": "@jupyter-widgets/base",
            "_view_module_version": "1.2.0",
            "_view_name": "LayoutView",
            "align_content": null,
            "align_items": null,
            "align_self": null,
            "border": null,
            "bottom": null,
            "display": null,
            "flex": null,
            "flex_flow": null,
            "grid_area": null,
            "grid_auto_columns": null,
            "grid_auto_flow": null,
            "grid_auto_rows": null,
            "grid_column": null,
            "grid_gap": null,
            "grid_row": null,
            "grid_template_areas": null,
            "grid_template_columns": null,
            "grid_template_rows": null,
            "height": null,
            "justify_content": null,
            "justify_items": null,
            "left": null,
            "margin": null,
            "max_height": null,
            "max_width": null,
            "min_height": null,
            "min_width": null,
            "object_fit": null,
            "object_position": null,
            "order": null,
            "overflow": null,
            "overflow_x": null,
            "overflow_y": null,
            "padding": null,
            "right": null,
            "top": null,
            "visibility": null,
            "width": null
          }
        },
        "89b141d4cfec46ae8c24907ab007a55a": {
          "model_module": "@jupyter-widgets/base",
          "model_name": "LayoutModel",
          "model_module_version": "1.2.0",
          "state": {
            "_model_module": "@jupyter-widgets/base",
            "_model_module_version": "1.2.0",
            "_model_name": "LayoutModel",
            "_view_count": null,
            "_view_module": "@jupyter-widgets/base",
            "_view_module_version": "1.2.0",
            "_view_name": "LayoutView",
            "align_content": null,
            "align_items": null,
            "align_self": null,
            "border": null,
            "bottom": null,
            "display": null,
            "flex": null,
            "flex_flow": null,
            "grid_area": null,
            "grid_auto_columns": null,
            "grid_auto_flow": null,
            "grid_auto_rows": null,
            "grid_column": null,
            "grid_gap": null,
            "grid_row": null,
            "grid_template_areas": null,
            "grid_template_columns": null,
            "grid_template_rows": null,
            "height": null,
            "justify_content": null,
            "justify_items": null,
            "left": null,
            "margin": null,
            "max_height": null,
            "max_width": null,
            "min_height": null,
            "min_width": null,
            "object_fit": null,
            "object_position": null,
            "order": null,
            "overflow": null,
            "overflow_x": null,
            "overflow_y": null,
            "padding": null,
            "right": null,
            "top": null,
            "visibility": null,
            "width": null
          }
        },
        "f12b89d8e70f4279a3863ec49f0f0d42": {
          "model_module": "@jupyter-widgets/controls",
          "model_name": "DescriptionStyleModel",
          "model_module_version": "1.5.0",
          "state": {
            "_model_module": "@jupyter-widgets/controls",
            "_model_module_version": "1.5.0",
            "_model_name": "DescriptionStyleModel",
            "_view_count": null,
            "_view_module": "@jupyter-widgets/base",
            "_view_module_version": "1.2.0",
            "_view_name": "StyleView",
            "description_width": ""
          }
        },
        "ad453983ab9445d9aca7d82c3a5f250c": {
          "model_module": "@jupyter-widgets/base",
          "model_name": "LayoutModel",
          "model_module_version": "1.2.0",
          "state": {
            "_model_module": "@jupyter-widgets/base",
            "_model_module_version": "1.2.0",
            "_model_name": "LayoutModel",
            "_view_count": null,
            "_view_module": "@jupyter-widgets/base",
            "_view_module_version": "1.2.0",
            "_view_name": "LayoutView",
            "align_content": null,
            "align_items": null,
            "align_self": null,
            "border": null,
            "bottom": null,
            "display": null,
            "flex": null,
            "flex_flow": null,
            "grid_area": null,
            "grid_auto_columns": null,
            "grid_auto_flow": null,
            "grid_auto_rows": null,
            "grid_column": null,
            "grid_gap": null,
            "grid_row": null,
            "grid_template_areas": null,
            "grid_template_columns": null,
            "grid_template_rows": null,
            "height": null,
            "justify_content": null,
            "justify_items": null,
            "left": null,
            "margin": null,
            "max_height": null,
            "max_width": null,
            "min_height": null,
            "min_width": null,
            "object_fit": null,
            "object_position": null,
            "order": null,
            "overflow": null,
            "overflow_x": null,
            "overflow_y": null,
            "padding": null,
            "right": null,
            "top": null,
            "visibility": null,
            "width": null
          }
        },
        "915bf50b74ca4463b6004b49dc4f4c83": {
          "model_module": "@jupyter-widgets/controls",
          "model_name": "ProgressStyleModel",
          "model_module_version": "1.5.0",
          "state": {
            "_model_module": "@jupyter-widgets/controls",
            "_model_module_version": "1.5.0",
            "_model_name": "ProgressStyleModel",
            "_view_count": null,
            "_view_module": "@jupyter-widgets/base",
            "_view_module_version": "1.2.0",
            "_view_name": "StyleView",
            "bar_color": null,
            "description_width": ""
          }
        },
        "74ae7564a3244513ada4cada5da443b5": {
          "model_module": "@jupyter-widgets/base",
          "model_name": "LayoutModel",
          "model_module_version": "1.2.0",
          "state": {
            "_model_module": "@jupyter-widgets/base",
            "_model_module_version": "1.2.0",
            "_model_name": "LayoutModel",
            "_view_count": null,
            "_view_module": "@jupyter-widgets/base",
            "_view_module_version": "1.2.0",
            "_view_name": "LayoutView",
            "align_content": null,
            "align_items": null,
            "align_self": null,
            "border": null,
            "bottom": null,
            "display": null,
            "flex": null,
            "flex_flow": null,
            "grid_area": null,
            "grid_auto_columns": null,
            "grid_auto_flow": null,
            "grid_auto_rows": null,
            "grid_column": null,
            "grid_gap": null,
            "grid_row": null,
            "grid_template_areas": null,
            "grid_template_columns": null,
            "grid_template_rows": null,
            "height": null,
            "justify_content": null,
            "justify_items": null,
            "left": null,
            "margin": null,
            "max_height": null,
            "max_width": null,
            "min_height": null,
            "min_width": null,
            "object_fit": null,
            "object_position": null,
            "order": null,
            "overflow": null,
            "overflow_x": null,
            "overflow_y": null,
            "padding": null,
            "right": null,
            "top": null,
            "visibility": null,
            "width": null
          }
        },
        "a17cc74617714eaf8b834dd183418cc7": {
          "model_module": "@jupyter-widgets/controls",
          "model_name": "DescriptionStyleModel",
          "model_module_version": "1.5.0",
          "state": {
            "_model_module": "@jupyter-widgets/controls",
            "_model_module_version": "1.5.0",
            "_model_name": "DescriptionStyleModel",
            "_view_count": null,
            "_view_module": "@jupyter-widgets/base",
            "_view_module_version": "1.2.0",
            "_view_name": "StyleView",
            "description_width": ""
          }
        },
        "cffd9c5d970c4774baa605cbb5b98781": {
          "model_module": "@jupyter-widgets/controls",
          "model_name": "HBoxModel",
          "model_module_version": "1.5.0",
          "state": {
            "_dom_classes": [],
            "_model_module": "@jupyter-widgets/controls",
            "_model_module_version": "1.5.0",
            "_model_name": "HBoxModel",
            "_view_count": null,
            "_view_module": "@jupyter-widgets/controls",
            "_view_module_version": "1.5.0",
            "_view_name": "HBoxView",
            "box_style": "",
            "children": [
              "IPY_MODEL_88ad70357d21426aa843440f67de1be2",
              "IPY_MODEL_5e180d678ded44e9822cdfbaf972c959",
              "IPY_MODEL_4699bda5073049e8940a05762030880d"
            ],
            "layout": "IPY_MODEL_775084b3247848c8bf1e8832c7d60212"
          }
        },
        "88ad70357d21426aa843440f67de1be2": {
          "model_module": "@jupyter-widgets/controls",
          "model_name": "HTMLModel",
          "model_module_version": "1.5.0",
          "state": {
            "_dom_classes": [],
            "_model_module": "@jupyter-widgets/controls",
            "_model_module_version": "1.5.0",
            "_model_name": "HTMLModel",
            "_view_count": null,
            "_view_module": "@jupyter-widgets/controls",
            "_view_module_version": "1.5.0",
            "_view_name": "HTMLView",
            "description": "",
            "description_tooltip": null,
            "layout": "IPY_MODEL_f610ace6fe7347509dcc16b6dd1ee2dc",
            "placeholder": "​",
            "style": "IPY_MODEL_262e86f6f26a4402a5a6837b0fe5e711",
            "value": "model.keras: 100%"
          }
        },
        "5e180d678ded44e9822cdfbaf972c959": {
          "model_module": "@jupyter-widgets/controls",
          "model_name": "FloatProgressModel",
          "model_module_version": "1.5.0",
          "state": {
            "_dom_classes": [],
            "_model_module": "@jupyter-widgets/controls",
            "_model_module_version": "1.5.0",
            "_model_name": "FloatProgressModel",
            "_view_count": null,
            "_view_module": "@jupyter-widgets/controls",
            "_view_module_version": "1.5.0",
            "_view_name": "ProgressView",
            "bar_style": "success",
            "description": "",
            "description_tooltip": null,
            "layout": "IPY_MODEL_e69aaa30bc68482283dbead045b1e5ce",
            "max": 41988053,
            "min": 0,
            "orientation": "horizontal",
            "style": "IPY_MODEL_07872dc954a84834a2b9c61d5a86aeac",
            "value": 41988053
          }
        },
        "4699bda5073049e8940a05762030880d": {
          "model_module": "@jupyter-widgets/controls",
          "model_name": "HTMLModel",
          "model_module_version": "1.5.0",
          "state": {
            "_dom_classes": [],
            "_model_module": "@jupyter-widgets/controls",
            "_model_module_version": "1.5.0",
            "_model_name": "HTMLModel",
            "_view_count": null,
            "_view_module": "@jupyter-widgets/controls",
            "_view_module_version": "1.5.0",
            "_view_name": "HTMLView",
            "description": "",
            "description_tooltip": null,
            "layout": "IPY_MODEL_750311a9d5f74669ae5cd248d1c175de",
            "placeholder": "​",
            "style": "IPY_MODEL_f47d0bd3384f437eadb91e473b29a201",
            "value": " 42.0M/42.0M [00:01&lt;00:00, 40.2MB/s]"
          }
        },
        "775084b3247848c8bf1e8832c7d60212": {
          "model_module": "@jupyter-widgets/base",
          "model_name": "LayoutModel",
          "model_module_version": "1.2.0",
          "state": {
            "_model_module": "@jupyter-widgets/base",
            "_model_module_version": "1.2.0",
            "_model_name": "LayoutModel",
            "_view_count": null,
            "_view_module": "@jupyter-widgets/base",
            "_view_module_version": "1.2.0",
            "_view_name": "LayoutView",
            "align_content": null,
            "align_items": null,
            "align_self": null,
            "border": null,
            "bottom": null,
            "display": null,
            "flex": null,
            "flex_flow": null,
            "grid_area": null,
            "grid_auto_columns": null,
            "grid_auto_flow": null,
            "grid_auto_rows": null,
            "grid_column": null,
            "grid_gap": null,
            "grid_row": null,
            "grid_template_areas": null,
            "grid_template_columns": null,
            "grid_template_rows": null,
            "height": null,
            "justify_content": null,
            "justify_items": null,
            "left": null,
            "margin": null,
            "max_height": null,
            "max_width": null,
            "min_height": null,
            "min_width": null,
            "object_fit": null,
            "object_position": null,
            "order": null,
            "overflow": null,
            "overflow_x": null,
            "overflow_y": null,
            "padding": null,
            "right": null,
            "top": null,
            "visibility": null,
            "width": null
          }
        },
        "f610ace6fe7347509dcc16b6dd1ee2dc": {
          "model_module": "@jupyter-widgets/base",
          "model_name": "LayoutModel",
          "model_module_version": "1.2.0",
          "state": {
            "_model_module": "@jupyter-widgets/base",
            "_model_module_version": "1.2.0",
            "_model_name": "LayoutModel",
            "_view_count": null,
            "_view_module": "@jupyter-widgets/base",
            "_view_module_version": "1.2.0",
            "_view_name": "LayoutView",
            "align_content": null,
            "align_items": null,
            "align_self": null,
            "border": null,
            "bottom": null,
            "display": null,
            "flex": null,
            "flex_flow": null,
            "grid_area": null,
            "grid_auto_columns": null,
            "grid_auto_flow": null,
            "grid_auto_rows": null,
            "grid_column": null,
            "grid_gap": null,
            "grid_row": null,
            "grid_template_areas": null,
            "grid_template_columns": null,
            "grid_template_rows": null,
            "height": null,
            "justify_content": null,
            "justify_items": null,
            "left": null,
            "margin": null,
            "max_height": null,
            "max_width": null,
            "min_height": null,
            "min_width": null,
            "object_fit": null,
            "object_position": null,
            "order": null,
            "overflow": null,
            "overflow_x": null,
            "overflow_y": null,
            "padding": null,
            "right": null,
            "top": null,
            "visibility": null,
            "width": null
          }
        },
        "262e86f6f26a4402a5a6837b0fe5e711": {
          "model_module": "@jupyter-widgets/controls",
          "model_name": "DescriptionStyleModel",
          "model_module_version": "1.5.0",
          "state": {
            "_model_module": "@jupyter-widgets/controls",
            "_model_module_version": "1.5.0",
            "_model_name": "DescriptionStyleModel",
            "_view_count": null,
            "_view_module": "@jupyter-widgets/base",
            "_view_module_version": "1.2.0",
            "_view_name": "StyleView",
            "description_width": ""
          }
        },
        "e69aaa30bc68482283dbead045b1e5ce": {
          "model_module": "@jupyter-widgets/base",
          "model_name": "LayoutModel",
          "model_module_version": "1.2.0",
          "state": {
            "_model_module": "@jupyter-widgets/base",
            "_model_module_version": "1.2.0",
            "_model_name": "LayoutModel",
            "_view_count": null,
            "_view_module": "@jupyter-widgets/base",
            "_view_module_version": "1.2.0",
            "_view_name": "LayoutView",
            "align_content": null,
            "align_items": null,
            "align_self": null,
            "border": null,
            "bottom": null,
            "display": null,
            "flex": null,
            "flex_flow": null,
            "grid_area": null,
            "grid_auto_columns": null,
            "grid_auto_flow": null,
            "grid_auto_rows": null,
            "grid_column": null,
            "grid_gap": null,
            "grid_row": null,
            "grid_template_areas": null,
            "grid_template_columns": null,
            "grid_template_rows": null,
            "height": null,
            "justify_content": null,
            "justify_items": null,
            "left": null,
            "margin": null,
            "max_height": null,
            "max_width": null,
            "min_height": null,
            "min_width": null,
            "object_fit": null,
            "object_position": null,
            "order": null,
            "overflow": null,
            "overflow_x": null,
            "overflow_y": null,
            "padding": null,
            "right": null,
            "top": null,
            "visibility": null,
            "width": null
          }
        },
        "07872dc954a84834a2b9c61d5a86aeac": {
          "model_module": "@jupyter-widgets/controls",
          "model_name": "ProgressStyleModel",
          "model_module_version": "1.5.0",
          "state": {
            "_model_module": "@jupyter-widgets/controls",
            "_model_module_version": "1.5.0",
            "_model_name": "ProgressStyleModel",
            "_view_count": null,
            "_view_module": "@jupyter-widgets/base",
            "_view_module_version": "1.2.0",
            "_view_name": "StyleView",
            "bar_color": null,
            "description_width": ""
          }
        },
        "750311a9d5f74669ae5cd248d1c175de": {
          "model_module": "@jupyter-widgets/base",
          "model_name": "LayoutModel",
          "model_module_version": "1.2.0",
          "state": {
            "_model_module": "@jupyter-widgets/base",
            "_model_module_version": "1.2.0",
            "_model_name": "LayoutModel",
            "_view_count": null,
            "_view_module": "@jupyter-widgets/base",
            "_view_module_version": "1.2.0",
            "_view_name": "LayoutView",
            "align_content": null,
            "align_items": null,
            "align_self": null,
            "border": null,
            "bottom": null,
            "display": null,
            "flex": null,
            "flex_flow": null,
            "grid_area": null,
            "grid_auto_columns": null,
            "grid_auto_flow": null,
            "grid_auto_rows": null,
            "grid_column": null,
            "grid_gap": null,
            "grid_row": null,
            "grid_template_areas": null,
            "grid_template_columns": null,
            "grid_template_rows": null,
            "height": null,
            "justify_content": null,
            "justify_items": null,
            "left": null,
            "margin": null,
            "max_height": null,
            "max_width": null,
            "min_height": null,
            "min_width": null,
            "object_fit": null,
            "object_position": null,
            "order": null,
            "overflow": null,
            "overflow_x": null,
            "overflow_y": null,
            "padding": null,
            "right": null,
            "top": null,
            "visibility": null,
            "width": null
          }
        },
        "f47d0bd3384f437eadb91e473b29a201": {
          "model_module": "@jupyter-widgets/controls",
          "model_name": "DescriptionStyleModel",
          "model_module_version": "1.5.0",
          "state": {
            "_model_module": "@jupyter-widgets/controls",
            "_model_module_version": "1.5.0",
            "_model_name": "DescriptionStyleModel",
            "_view_count": null,
            "_view_module": "@jupyter-widgets/base",
            "_view_module_version": "1.2.0",
            "_view_name": "StyleView",
            "description_width": ""
          }
        },
        "13bd59879cac43ff9d0db582186587a3": {
          "model_module": "@jupyter-widgets/controls",
          "model_name": "HBoxModel",
          "model_module_version": "1.5.0",
          "state": {
            "_dom_classes": [],
            "_model_module": "@jupyter-widgets/controls",
            "_model_module_version": "1.5.0",
            "_model_name": "HBoxModel",
            "_view_count": null,
            "_view_module": "@jupyter-widgets/controls",
            "_view_module_version": "1.5.0",
            "_view_name": "HBoxView",
            "box_style": "",
            "children": [
              "IPY_MODEL_88fa1e36ac12403bbe6e651b3f46f97d",
              "IPY_MODEL_1362ca727fd1434892a71bcaa939f605",
              "IPY_MODEL_fc634bb50b1c4cf6af45b292ffb37190"
            ],
            "layout": "IPY_MODEL_906e44496f9849c485f94257c8e25454"
          }
        },
        "88fa1e36ac12403bbe6e651b3f46f97d": {
          "model_module": "@jupyter-widgets/controls",
          "model_name": "HTMLModel",
          "model_module_version": "1.5.0",
          "state": {
            "_dom_classes": [],
            "_model_module": "@jupyter-widgets/controls",
            "_model_module_version": "1.5.0",
            "_model_name": "HTMLModel",
            "_view_count": null,
            "_view_module": "@jupyter-widgets/controls",
            "_view_module_version": "1.5.0",
            "_view_name": "HTMLView",
            "description": "",
            "description_tooltip": null,
            "layout": "IPY_MODEL_56799d5051fa495ab523c26f235b3464",
            "placeholder": "​",
            "style": "IPY_MODEL_505d6c58a1de4159bedaa2d31f0de59e",
            "value": "tokenizer.pkl: 100%"
          }
        },
        "1362ca727fd1434892a71bcaa939f605": {
          "model_module": "@jupyter-widgets/controls",
          "model_name": "FloatProgressModel",
          "model_module_version": "1.5.0",
          "state": {
            "_dom_classes": [],
            "_model_module": "@jupyter-widgets/controls",
            "_model_module_version": "1.5.0",
            "_model_name": "FloatProgressModel",
            "_view_count": null,
            "_view_module": "@jupyter-widgets/controls",
            "_view_module_version": "1.5.0",
            "_view_name": "ProgressView",
            "bar_style": "success",
            "description": "",
            "description_tooltip": null,
            "layout": "IPY_MODEL_714f6afb061647ba92620eecd07f64aa",
            "max": 33472,
            "min": 0,
            "orientation": "horizontal",
            "style": "IPY_MODEL_227b2a89425c4e1fa7ff1d662c5e2252",
            "value": 33472
          }
        },
        "fc634bb50b1c4cf6af45b292ffb37190": {
          "model_module": "@jupyter-widgets/controls",
          "model_name": "HTMLModel",
          "model_module_version": "1.5.0",
          "state": {
            "_dom_classes": [],
            "_model_module": "@jupyter-widgets/controls",
            "_model_module_version": "1.5.0",
            "_model_name": "HTMLModel",
            "_view_count": null,
            "_view_module": "@jupyter-widgets/controls",
            "_view_module_version": "1.5.0",
            "_view_name": "HTMLView",
            "description": "",
            "description_tooltip": null,
            "layout": "IPY_MODEL_09b43d68073b4ffd92a8e621cbf55f58",
            "placeholder": "​",
            "style": "IPY_MODEL_e33f6e6127af42dbb31fa6c7ec494bd7",
            "value": " 33.5k/33.5k [00:00&lt;00:00, 1.29MB/s]"
          }
        },
        "906e44496f9849c485f94257c8e25454": {
          "model_module": "@jupyter-widgets/base",
          "model_name": "LayoutModel",
          "model_module_version": "1.2.0",
          "state": {
            "_model_module": "@jupyter-widgets/base",
            "_model_module_version": "1.2.0",
            "_model_name": "LayoutModel",
            "_view_count": null,
            "_view_module": "@jupyter-widgets/base",
            "_view_module_version": "1.2.0",
            "_view_name": "LayoutView",
            "align_content": null,
            "align_items": null,
            "align_self": null,
            "border": null,
            "bottom": null,
            "display": null,
            "flex": null,
            "flex_flow": null,
            "grid_area": null,
            "grid_auto_columns": null,
            "grid_auto_flow": null,
            "grid_auto_rows": null,
            "grid_column": null,
            "grid_gap": null,
            "grid_row": null,
            "grid_template_areas": null,
            "grid_template_columns": null,
            "grid_template_rows": null,
            "height": null,
            "justify_content": null,
            "justify_items": null,
            "left": null,
            "margin": null,
            "max_height": null,
            "max_width": null,
            "min_height": null,
            "min_width": null,
            "object_fit": null,
            "object_position": null,
            "order": null,
            "overflow": null,
            "overflow_x": null,
            "overflow_y": null,
            "padding": null,
            "right": null,
            "top": null,
            "visibility": null,
            "width": null
          }
        },
        "56799d5051fa495ab523c26f235b3464": {
          "model_module": "@jupyter-widgets/base",
          "model_name": "LayoutModel",
          "model_module_version": "1.2.0",
          "state": {
            "_model_module": "@jupyter-widgets/base",
            "_model_module_version": "1.2.0",
            "_model_name": "LayoutModel",
            "_view_count": null,
            "_view_module": "@jupyter-widgets/base",
            "_view_module_version": "1.2.0",
            "_view_name": "LayoutView",
            "align_content": null,
            "align_items": null,
            "align_self": null,
            "border": null,
            "bottom": null,
            "display": null,
            "flex": null,
            "flex_flow": null,
            "grid_area": null,
            "grid_auto_columns": null,
            "grid_auto_flow": null,
            "grid_auto_rows": null,
            "grid_column": null,
            "grid_gap": null,
            "grid_row": null,
            "grid_template_areas": null,
            "grid_template_columns": null,
            "grid_template_rows": null,
            "height": null,
            "justify_content": null,
            "justify_items": null,
            "left": null,
            "margin": null,
            "max_height": null,
            "max_width": null,
            "min_height": null,
            "min_width": null,
            "object_fit": null,
            "object_position": null,
            "order": null,
            "overflow": null,
            "overflow_x": null,
            "overflow_y": null,
            "padding": null,
            "right": null,
            "top": null,
            "visibility": null,
            "width": null
          }
        },
        "505d6c58a1de4159bedaa2d31f0de59e": {
          "model_module": "@jupyter-widgets/controls",
          "model_name": "DescriptionStyleModel",
          "model_module_version": "1.5.0",
          "state": {
            "_model_module": "@jupyter-widgets/controls",
            "_model_module_version": "1.5.0",
            "_model_name": "DescriptionStyleModel",
            "_view_count": null,
            "_view_module": "@jupyter-widgets/base",
            "_view_module_version": "1.2.0",
            "_view_name": "StyleView",
            "description_width": ""
          }
        },
        "714f6afb061647ba92620eecd07f64aa": {
          "model_module": "@jupyter-widgets/base",
          "model_name": "LayoutModel",
          "model_module_version": "1.2.0",
          "state": {
            "_model_module": "@jupyter-widgets/base",
            "_model_module_version": "1.2.0",
            "_model_name": "LayoutModel",
            "_view_count": null,
            "_view_module": "@jupyter-widgets/base",
            "_view_module_version": "1.2.0",
            "_view_name": "LayoutView",
            "align_content": null,
            "align_items": null,
            "align_self": null,
            "border": null,
            "bottom": null,
            "display": null,
            "flex": null,
            "flex_flow": null,
            "grid_area": null,
            "grid_auto_columns": null,
            "grid_auto_flow": null,
            "grid_auto_rows": null,
            "grid_column": null,
            "grid_gap": null,
            "grid_row": null,
            "grid_template_areas": null,
            "grid_template_columns": null,
            "grid_template_rows": null,
            "height": null,
            "justify_content": null,
            "justify_items": null,
            "left": null,
            "margin": null,
            "max_height": null,
            "max_width": null,
            "min_height": null,
            "min_width": null,
            "object_fit": null,
            "object_position": null,
            "order": null,
            "overflow": null,
            "overflow_x": null,
            "overflow_y": null,
            "padding": null,
            "right": null,
            "top": null,
            "visibility": null,
            "width": null
          }
        },
        "227b2a89425c4e1fa7ff1d662c5e2252": {
          "model_module": "@jupyter-widgets/controls",
          "model_name": "ProgressStyleModel",
          "model_module_version": "1.5.0",
          "state": {
            "_model_module": "@jupyter-widgets/controls",
            "_model_module_version": "1.5.0",
            "_model_name": "ProgressStyleModel",
            "_view_count": null,
            "_view_module": "@jupyter-widgets/base",
            "_view_module_version": "1.2.0",
            "_view_name": "StyleView",
            "bar_color": null,
            "description_width": ""
          }
        },
        "09b43d68073b4ffd92a8e621cbf55f58": {
          "model_module": "@jupyter-widgets/base",
          "model_name": "LayoutModel",
          "model_module_version": "1.2.0",
          "state": {
            "_model_module": "@jupyter-widgets/base",
            "_model_module_version": "1.2.0",
            "_model_name": "LayoutModel",
            "_view_count": null,
            "_view_module": "@jupyter-widgets/base",
            "_view_module_version": "1.2.0",
            "_view_name": "LayoutView",
            "align_content": null,
            "align_items": null,
            "align_self": null,
            "border": null,
            "bottom": null,
            "display": null,
            "flex": null,
            "flex_flow": null,
            "grid_area": null,
            "grid_auto_columns": null,
            "grid_auto_flow": null,
            "grid_auto_rows": null,
            "grid_column": null,
            "grid_gap": null,
            "grid_row": null,
            "grid_template_areas": null,
            "grid_template_columns": null,
            "grid_template_rows": null,
            "height": null,
            "justify_content": null,
            "justify_items": null,
            "left": null,
            "margin": null,
            "max_height": null,
            "max_width": null,
            "min_height": null,
            "min_width": null,
            "object_fit": null,
            "object_position": null,
            "order": null,
            "overflow": null,
            "overflow_x": null,
            "overflow_y": null,
            "padding": null,
            "right": null,
            "top": null,
            "visibility": null,
            "width": null
          }
        },
        "e33f6e6127af42dbb31fa6c7ec494bd7": {
          "model_module": "@jupyter-widgets/controls",
          "model_name": "DescriptionStyleModel",
          "model_module_version": "1.5.0",
          "state": {
            "_model_module": "@jupyter-widgets/controls",
            "_model_module_version": "1.5.0",
            "_model_name": "DescriptionStyleModel",
            "_view_count": null,
            "_view_module": "@jupyter-widgets/base",
            "_view_module_version": "1.2.0",
            "_view_name": "StyleView",
            "description_width": ""
          }
        }
      }
    }
  },
  "cells": [
    {
      "cell_type": "code",
      "execution_count": 1,
      "metadata": {
        "id": "uqV128Ee9LpW"
      },
      "outputs": [],
      "source": [
        "import tensorflow as tf\n",
        "from tensorflow.keras.layers import Input, Embedding, Dense, Concatenate, Flatten\n",
        "from tensorflow.keras.models import Model\n",
        "from tensorflow.keras.preprocessing.text import Tokenizer\n",
        "from tensorflow.keras.preprocessing.sequence import pad_sequences\n",
        "import numpy as np\n",
        "import pandas as pd"
      ]
    },
    {
      "cell_type": "code",
      "source": [
        "from tensorflow.keras.models import Model\n",
        "from tensorflow.keras.layers import Input, Embedding, Dense, Concatenate, Flatten\n",
        "\n",
        "# Define function to create the neural network model\n",
        "def create_nn_model(vocab_size: int, embedding_dim: int, max_length: int, num_of_dense: int) -> Model:\n",
        "    \"\"\"\n",
        "    Creates a neural network model that processes user prompts using an embedding layer,\n",
        "    concatenates it with function ratings, and passes through dense layers.\n",
        "\n",
        "    Args:\n",
        "        vocab_size (int): Size of the vocabulary for embedding.\n",
        "        embedding_dim (int): Dimensionality of the embedding layer.\n",
        "        max_length (int): Maximum length of input sequences.\n",
        "        num_of_dense (int): Number of dense layers before concatenation.\n",
        "\n",
        "    Returns:\n",
        "        Model: A compiled TensorFlow model.\n",
        "    \"\"\"\n",
        "    # Text input (user prompt)\n",
        "    text_input = Input(shape=(max_length,), name=\"text_input\")\n",
        "    embedding = Embedding(input_dim=vocab_size, output_dim=embedding_dim, input_length=max_length)(text_input)\n",
        "    flatten = Flatten()(embedding)\n",
        "\n",
        "    # Dense layers for text input\n",
        "    num_neurons = 2**12  # Start with 4096 neurons\n",
        "    x = flatten\n",
        "    for _ in range(num_of_dense):\n",
        "        num_neurons = max(1, int(num_neurons / 2))  # Ensure integer neurons, minimum of 1\n",
        "        x = Dense(num_neurons, activation='relu')(x)\n",
        "\n",
        "    # Numeric input (func_rating)\n",
        "    func_rating_input = Input(shape=(1,), name=\"func_rating_input\")\n",
        "    y = Dense(32, activation='relu')(func_rating_input)\n",
        "\n",
        "    # Concatenate both paths\n",
        "    concatenated = Concatenate()([x, y])\n",
        "    # output = Dense(1, activation='linear', name=\"output\")(concatenated)\n",
        "    output = Dense(6, activation='softmax', name=\"output\")(concatenated)\n",
        "\n",
        "    # Define and compile the model\n",
        "    model = Model(inputs=[text_input, func_rating_input], outputs=output)\n",
        "    model.compile(optimizer='adam', loss='categorical_crossentropy', metrics=['accuracy'])\n",
        "\n",
        "    return model"
      ],
      "metadata": {
        "id": "9sWck8YHLbrs"
      },
      "execution_count": 2,
      "outputs": []
    },
    {
      "cell_type": "code",
      "source": [
        "import pandas as pd\n",
        "\n",
        "df = pd.read_csv('combined_data.csv')\n",
        "\n",
        "df[\"custom_rating\"].unique()\n"
      ],
      "metadata": {
        "colab": {
          "base_uri": "https://localhost:8080/"
        },
        "id": "YJ8GeeHTL54O",
        "outputId": "3dbcec70-6981-4968-c8cc-7852a23adea5"
      },
      "execution_count": 3,
      "outputs": [
        {
          "output_type": "execute_result",
          "data": {
            "text/plain": [
              "array([3, 4, 2, 5, 1, 0])"
            ]
          },
          "metadata": {},
          "execution_count": 3
        }
      ]
    },
    {
      "cell_type": "code",
      "source": [
        "df.shape"
      ],
      "metadata": {
        "colab": {
          "base_uri": "https://localhost:8080/"
        },
        "id": "0f5yZm1obMXt",
        "outputId": "0987c59d-3f88-4087-f860-be92fae8c8e3"
      },
      "execution_count": 4,
      "outputs": [
        {
          "output_type": "execute_result",
          "data": {
            "text/plain": [
              "(322, 4)"
            ]
          },
          "metadata": {},
          "execution_count": 4
        }
      ]
    },
    {
      "cell_type": "code",
      "source": [
        "# Tokenize and prepare data\n",
        "tokenizer = Tokenizer()\n",
        "tokenizer.fit_on_texts(df[\"user_prompt\"])\n",
        "vocab_size = len(tokenizer.word_index) + 1\n",
        "max_length = max([len(x.split()) for x in df[\"user_prompt\"]])\n",
        "embedding_dim = 16\n",
        "\n",
        "# Convert text data into sequences\n",
        "X_text = tokenizer.texts_to_sequences(df[\"user_prompt\"])\n",
        "X_text = pad_sequences(X_text, maxlen=max_length, padding='post')\n",
        "print(X_text.shape)\n",
        "\n",
        "# Numeric input\n",
        "X_func_rating = np.array(df[\"func_rating\"]).reshape(-1, 1)\n",
        "print(X_func_rating.shape)\n",
        "\n",
        "# Target variable\n",
        "y = np.array(df[\"custom_rating\"]).reshape(-1, 1)\n",
        "print(y.shape)"
      ],
      "metadata": {
        "colab": {
          "base_uri": "https://localhost:8080/"
        },
        "id": "6HMsN2RzMC20",
        "outputId": "266e7a27-8dc3-4afd-c7c8-2fab4973c905"
      },
      "execution_count": 5,
      "outputs": [
        {
          "output_type": "stream",
          "name": "stdout",
          "text": [
            "(322, 26)\n",
            "(322, 1)\n",
            "(322, 1)\n"
          ]
        }
      ]
    },
    {
      "cell_type": "code",
      "source": [
        "df[\"custom_rating\"].unique()"
      ],
      "metadata": {
        "colab": {
          "base_uri": "https://localhost:8080/"
        },
        "id": "FEkiH3hjQDrm",
        "outputId": "89a76b9e-1b46-47e5-b1c5-5f20e9e55dcb"
      },
      "execution_count": 6,
      "outputs": [
        {
          "output_type": "execute_result",
          "data": {
            "text/plain": [
              "array([3, 4, 2, 5, 1, 0])"
            ]
          },
          "metadata": {},
          "execution_count": 6
        }
      ]
    },
    {
      "cell_type": "code",
      "source": [
        "from keras.utils import to_categorical\n",
        "\n",
        "# Assuming y is your array of class labels shaped as (20, 1)\n",
        "# Convert labels to one-hot encoding\n",
        "y_one_hot = to_categorical(y)\n",
        "\n",
        "# Check the new shape of y_one_hot\n",
        "print(y_one_hot.shape)"
      ],
      "metadata": {
        "colab": {
          "base_uri": "https://localhost:8080/"
        },
        "id": "n8Mg4CwkQK1c",
        "outputId": "0e276cf2-497c-40bd-fc76-7cda074a90e7"
      },
      "execution_count": 7,
      "outputs": [
        {
          "output_type": "stream",
          "name": "stdout",
          "text": [
            "(322, 6)\n"
          ]
        }
      ]
    },
    {
      "cell_type": "markdown",
      "source": [
        "##Instantiate Model"
      ],
      "metadata": {
        "id": "n9EygFjDQT_q"
      }
    },
    {
      "cell_type": "code",
      "source": [
        "# Create the model\n",
        "num_of_dense_layers = 3  # Example: 2 dense layers before concatenation\n",
        "model = create_nn_model(vocab_size, embedding_dim, max_length, num_of_dense_layers)"
      ],
      "metadata": {
        "colab": {
          "base_uri": "https://localhost:8080/"
        },
        "id": "KvpwR9UKQPx9",
        "outputId": "2ced7e61-26b4-40dd-e10b-7c1f397e0430"
      },
      "execution_count": 8,
      "outputs": [
        {
          "output_type": "stream",
          "name": "stderr",
          "text": [
            "/usr/local/lib/python3.11/dist-packages/keras/src/layers/core/embedding.py:90: UserWarning: Argument `input_length` is deprecated. Just remove it.\n",
            "  warnings.warn(\n"
          ]
        }
      ]
    },
    {
      "cell_type": "markdown",
      "source": [
        "# **Training**"
      ],
      "metadata": {
        "id": "8gWb9bN-S1jr"
      }
    },
    {
      "cell_type": "code",
      "source": [
        "%%time\n",
        "\n",
        "# Train the model\n",
        "model.fit(\n",
        "    {\"text_input\": X_text, \"func_rating_input\": X_func_rating},\n",
        "    y_one_hot,\n",
        "    epochs=80,\n",
        "    batch_size=2,\n",
        "    validation_split=0.1,\n",
        "    verbose=2\n",
        ")"
      ],
      "metadata": {
        "colab": {
          "base_uri": "https://localhost:8080/"
        },
        "id": "U_WfAqprS1Ni",
        "outputId": "8ce8d079-f356-4c20-f284-b42e570e4fa7"
      },
      "execution_count": 9,
      "outputs": [
        {
          "output_type": "stream",
          "name": "stdout",
          "text": [
            "Epoch 1/80\n",
            "145/145 - 12s - 84ms/step - accuracy: 0.5190 - loss: 1.4271 - val_accuracy: 0.4545 - val_loss: 1.4103\n",
            "Epoch 2/80\n",
            "145/145 - 10s - 67ms/step - accuracy: 0.5433 - loss: 1.1841 - val_accuracy: 0.4242 - val_loss: 1.3641\n",
            "Epoch 3/80\n",
            "145/145 - 10s - 68ms/step - accuracy: 0.6367 - loss: 0.9455 - val_accuracy: 0.3636 - val_loss: 1.4915\n",
            "Epoch 4/80\n",
            "145/145 - 10s - 69ms/step - accuracy: 0.7232 - loss: 0.7303 - val_accuracy: 0.4242 - val_loss: 1.4436\n",
            "Epoch 5/80\n",
            "145/145 - 9s - 61ms/step - accuracy: 0.7924 - loss: 0.6037 - val_accuracy: 0.3333 - val_loss: 2.2712\n",
            "Epoch 6/80\n",
            "145/145 - 9s - 61ms/step - accuracy: 0.8339 - loss: 0.4836 - val_accuracy: 0.3030 - val_loss: 1.5668\n",
            "Epoch 7/80\n",
            "145/145 - 10s - 67ms/step - accuracy: 0.8754 - loss: 0.3841 - val_accuracy: 0.4242 - val_loss: 1.4295\n",
            "Epoch 8/80\n",
            "145/145 - 9s - 60ms/step - accuracy: 0.8720 - loss: 0.3923 - val_accuracy: 0.4242 - val_loss: 1.4722\n",
            "Epoch 9/80\n",
            "145/145 - 11s - 76ms/step - accuracy: 0.8824 - loss: 0.3003 - val_accuracy: 0.1515 - val_loss: 2.1543\n",
            "Epoch 10/80\n",
            "145/145 - 9s - 65ms/step - accuracy: 0.8893 - loss: 0.2281 - val_accuracy: 0.3030 - val_loss: 1.6375\n",
            "Epoch 11/80\n",
            "145/145 - 8s - 56ms/step - accuracy: 0.9204 - loss: 0.2041 - val_accuracy: 0.2727 - val_loss: 2.1085\n",
            "Epoch 12/80\n",
            "145/145 - 9s - 62ms/step - accuracy: 0.9100 - loss: 0.2189 - val_accuracy: 0.3030 - val_loss: 1.8900\n",
            "Epoch 13/80\n",
            "145/145 - 10s - 71ms/step - accuracy: 0.9066 - loss: 0.1544 - val_accuracy: 0.3333 - val_loss: 1.9656\n",
            "Epoch 14/80\n",
            "145/145 - 8s - 56ms/step - accuracy: 0.9204 - loss: 0.1516 - val_accuracy: 0.3939 - val_loss: 1.7487\n",
            "Epoch 15/80\n",
            "145/145 - 10s - 70ms/step - accuracy: 0.9204 - loss: 0.1391 - val_accuracy: 0.2727 - val_loss: 2.6253\n",
            "Epoch 16/80\n",
            "145/145 - 11s - 74ms/step - accuracy: 0.9204 - loss: 0.1423 - val_accuracy: 0.3636 - val_loss: 2.0117\n",
            "Epoch 17/80\n",
            "145/145 - 9s - 60ms/step - accuracy: 0.9308 - loss: 0.1284 - val_accuracy: 0.3030 - val_loss: 2.2116\n",
            "Epoch 18/80\n",
            "145/145 - 10s - 72ms/step - accuracy: 0.9204 - loss: 0.1222 - val_accuracy: 0.3030 - val_loss: 2.3704\n",
            "Epoch 19/80\n",
            "145/145 - 8s - 54ms/step - accuracy: 0.9239 - loss: 0.1173 - val_accuracy: 0.3333 - val_loss: 2.4559\n",
            "Epoch 20/80\n",
            "145/145 - 9s - 62ms/step - accuracy: 0.9135 - loss: 0.1167 - val_accuracy: 0.3333 - val_loss: 2.5256\n",
            "Epoch 21/80\n",
            "145/145 - 10s - 70ms/step - accuracy: 0.9170 - loss: 0.1201 - val_accuracy: 0.3636 - val_loss: 2.4168\n",
            "Epoch 22/80\n",
            "145/145 - 10s - 66ms/step - accuracy: 0.9273 - loss: 0.1192 - val_accuracy: 0.3636 - val_loss: 2.4850\n",
            "Epoch 23/80\n",
            "145/145 - 10s - 68ms/step - accuracy: 0.9273 - loss: 0.1150 - val_accuracy: 0.3333 - val_loss: 2.5857\n",
            "Epoch 24/80\n",
            "145/145 - 9s - 61ms/step - accuracy: 0.9135 - loss: 0.1195 - val_accuracy: 0.3333 - val_loss: 2.6668\n",
            "Epoch 25/80\n",
            "145/145 - 10s - 68ms/step - accuracy: 0.9170 - loss: 0.1156 - val_accuracy: 0.3333 - val_loss: 2.5688\n",
            "Epoch 26/80\n",
            "145/145 - 8s - 54ms/step - accuracy: 0.9308 - loss: 0.1157 - val_accuracy: 0.3939 - val_loss: 2.5405\n",
            "Epoch 27/80\n",
            "145/145 - 8s - 59ms/step - accuracy: 0.9239 - loss: 0.1141 - val_accuracy: 0.3333 - val_loss: 2.6731\n",
            "Epoch 28/80\n",
            "145/145 - 8s - 57ms/step - accuracy: 0.9308 - loss: 0.1144 - val_accuracy: 0.3333 - val_loss: 2.8652\n",
            "Epoch 29/80\n",
            "145/145 - 8s - 55ms/step - accuracy: 0.9273 - loss: 0.1146 - val_accuracy: 0.3333 - val_loss: 2.7343\n",
            "Epoch 30/80\n",
            "145/145 - 11s - 73ms/step - accuracy: 0.9308 - loss: 0.1188 - val_accuracy: 0.3333 - val_loss: 2.6997\n",
            "Epoch 31/80\n",
            "145/145 - 8s - 58ms/step - accuracy: 0.9308 - loss: 0.1168 - val_accuracy: 0.2424 - val_loss: 2.9868\n",
            "Epoch 32/80\n",
            "145/145 - 8s - 55ms/step - accuracy: 0.9308 - loss: 0.1184 - val_accuracy: 0.3939 - val_loss: 4.1731\n",
            "Epoch 33/80\n",
            "145/145 - 11s - 72ms/step - accuracy: 0.7924 - loss: 0.8672 - val_accuracy: 0.3939 - val_loss: 1.8164\n",
            "Epoch 34/80\n",
            "145/145 - 11s - 74ms/step - accuracy: 0.8547 - loss: 0.3650 - val_accuracy: 0.3030 - val_loss: 1.9437\n",
            "Epoch 35/80\n",
            "145/145 - 10s - 69ms/step - accuracy: 0.9135 - loss: 0.1889 - val_accuracy: 0.3030 - val_loss: 2.4913\n",
            "Epoch 36/80\n",
            "145/145 - 10s - 66ms/step - accuracy: 0.9170 - loss: 0.1572 - val_accuracy: 0.3636 - val_loss: 2.4041\n",
            "Epoch 37/80\n",
            "145/145 - 8s - 58ms/step - accuracy: 0.9343 - loss: 0.1247 - val_accuracy: 0.3333 - val_loss: 2.7187\n",
            "Epoch 38/80\n",
            "145/145 - 8s - 58ms/step - accuracy: 0.9308 - loss: 0.1182 - val_accuracy: 0.3636 - val_loss: 2.7328\n",
            "Epoch 39/80\n",
            "145/145 - 8s - 54ms/step - accuracy: 0.9170 - loss: 0.1150 - val_accuracy: 0.3939 - val_loss: 2.8403\n",
            "Epoch 40/80\n",
            "145/145 - 11s - 72ms/step - accuracy: 0.9273 - loss: 0.1095 - val_accuracy: 0.3939 - val_loss: 2.9536\n",
            "Epoch 41/80\n",
            "145/145 - 11s - 74ms/step - accuracy: 0.9239 - loss: 0.1090 - val_accuracy: 0.3939 - val_loss: 2.9720\n",
            "Epoch 42/80\n",
            "145/145 - 10s - 69ms/step - accuracy: 0.9377 - loss: 0.1097 - val_accuracy: 0.3333 - val_loss: 3.0434\n",
            "Epoch 43/80\n",
            "145/145 - 8s - 54ms/step - accuracy: 0.9239 - loss: 0.1101 - val_accuracy: 0.3939 - val_loss: 3.1008\n",
            "Epoch 44/80\n",
            "145/145 - 10s - 70ms/step - accuracy: 0.9239 - loss: 0.1086 - val_accuracy: 0.3939 - val_loss: 3.0974\n",
            "Epoch 45/80\n",
            "145/145 - 11s - 74ms/step - accuracy: 0.9412 - loss: 0.1085 - val_accuracy: 0.3636 - val_loss: 3.0590\n",
            "Epoch 46/80\n",
            "145/145 - 9s - 60ms/step - accuracy: 0.9066 - loss: 0.1124 - val_accuracy: 0.3939 - val_loss: 2.9986\n",
            "Epoch 47/80\n",
            "145/145 - 8s - 57ms/step - accuracy: 0.9308 - loss: 0.1101 - val_accuracy: 0.3636 - val_loss: 3.1063\n",
            "Epoch 48/80\n",
            "145/145 - 10s - 68ms/step - accuracy: 0.9135 - loss: 0.1107 - val_accuracy: 0.3333 - val_loss: 3.0877\n",
            "Epoch 49/80\n",
            "145/145 - 11s - 73ms/step - accuracy: 0.9239 - loss: 0.1116 - val_accuracy: 0.3333 - val_loss: 2.9966\n",
            "Epoch 50/80\n",
            "145/145 - 10s - 72ms/step - accuracy: 0.9273 - loss: 0.1096 - val_accuracy: 0.3939 - val_loss: 3.1073\n",
            "Epoch 51/80\n",
            "145/145 - 9s - 59ms/step - accuracy: 0.9308 - loss: 0.1084 - val_accuracy: 0.3333 - val_loss: 3.0986\n",
            "Epoch 52/80\n",
            "145/145 - 8s - 54ms/step - accuracy: 0.9308 - loss: 0.1117 - val_accuracy: 0.3636 - val_loss: 3.1438\n",
            "Epoch 53/80\n",
            "145/145 - 9s - 59ms/step - accuracy: 0.9308 - loss: 0.1082 - val_accuracy: 0.3333 - val_loss: 3.2012\n",
            "Epoch 54/80\n",
            "145/145 - 10s - 71ms/step - accuracy: 0.9308 - loss: 0.1064 - val_accuracy: 0.3636 - val_loss: 3.2156\n",
            "Epoch 55/80\n",
            "145/145 - 9s - 65ms/step - accuracy: 0.9204 - loss: 0.1106 - val_accuracy: 0.3636 - val_loss: 3.1863\n",
            "Epoch 56/80\n",
            "145/145 - 10s - 70ms/step - accuracy: 0.9377 - loss: 0.1094 - val_accuracy: 0.3333 - val_loss: 3.2543\n",
            "Epoch 57/80\n",
            "145/145 - 9s - 59ms/step - accuracy: 0.9481 - loss: 0.1113 - val_accuracy: 0.3333 - val_loss: 2.9956\n",
            "Epoch 58/80\n",
            "145/145 - 10s - 71ms/step - accuracy: 0.9239 - loss: 0.1188 - val_accuracy: 0.3939 - val_loss: 2.7191\n",
            "Epoch 59/80\n",
            "145/145 - 8s - 54ms/step - accuracy: 0.9170 - loss: 0.1352 - val_accuracy: 0.4545 - val_loss: 3.2604\n",
            "Epoch 60/80\n",
            "145/145 - 9s - 59ms/step - accuracy: 0.8512 - loss: 0.5525 - val_accuracy: 0.4848 - val_loss: 2.4015\n",
            "Epoch 61/80\n",
            "145/145 - 9s - 59ms/step - accuracy: 0.8997 - loss: 0.2712 - val_accuracy: 0.3636 - val_loss: 2.1703\n",
            "Epoch 62/80\n",
            "145/145 - 10s - 66ms/step - accuracy: 0.9273 - loss: 0.1313 - val_accuracy: 0.3939 - val_loss: 1.6101\n",
            "Epoch 63/80\n",
            "145/145 - 8s - 58ms/step - accuracy: 0.9204 - loss: 0.1132 - val_accuracy: 0.3939 - val_loss: 2.0880\n",
            "Epoch 64/80\n",
            "145/145 - 9s - 59ms/step - accuracy: 0.9239 - loss: 0.1090 - val_accuracy: 0.4242 - val_loss: 1.9286\n",
            "Epoch 65/80\n",
            "145/145 - 8s - 55ms/step - accuracy: 0.9170 - loss: 0.1100 - val_accuracy: 0.3939 - val_loss: 1.9339\n",
            "Epoch 66/80\n",
            "145/145 - 8s - 59ms/step - accuracy: 0.9273 - loss: 0.1073 - val_accuracy: 0.3939 - val_loss: 1.9739\n",
            "Epoch 67/80\n",
            "145/145 - 8s - 58ms/step - accuracy: 0.9308 - loss: 0.1058 - val_accuracy: 0.3939 - val_loss: 2.0041\n",
            "Epoch 68/80\n",
            "145/145 - 10s - 67ms/step - accuracy: 0.9377 - loss: 0.1054 - val_accuracy: 0.3939 - val_loss: 2.0385\n",
            "Epoch 69/80\n",
            "145/145 - 10s - 70ms/step - accuracy: 0.9585 - loss: 0.1043 - val_accuracy: 0.3939 - val_loss: 2.0572\n",
            "Epoch 70/80\n",
            "145/145 - 8s - 58ms/step - accuracy: 0.9273 - loss: 0.1062 - val_accuracy: 0.3939 - val_loss: 2.1287\n",
            "Epoch 71/80\n",
            "145/145 - 8s - 57ms/step - accuracy: 0.9308 - loss: 0.1074 - val_accuracy: 0.3939 - val_loss: 2.1686\n",
            "Epoch 72/80\n",
            "145/145 - 8s - 57ms/step - accuracy: 0.9377 - loss: 0.1040 - val_accuracy: 0.3939 - val_loss: 2.1574\n",
            "Epoch 73/80\n",
            "145/145 - 11s - 73ms/step - accuracy: 0.9377 - loss: 0.1058 - val_accuracy: 0.3939 - val_loss: 2.2015\n",
            "Epoch 74/80\n",
            "145/145 - 8s - 58ms/step - accuracy: 0.9446 - loss: 0.1039 - val_accuracy: 0.3939 - val_loss: 2.2002\n",
            "Epoch 75/80\n",
            "145/145 - 8s - 55ms/step - accuracy: 0.9308 - loss: 0.1050 - val_accuracy: 0.3939 - val_loss: 2.2214\n",
            "Epoch 76/80\n",
            "145/145 - 9s - 59ms/step - accuracy: 0.9343 - loss: 0.1068 - val_accuracy: 0.3939 - val_loss: 2.2027\n",
            "Epoch 77/80\n",
            "145/145 - 10s - 72ms/step - accuracy: 0.9412 - loss: 0.1054 - val_accuracy: 0.4242 - val_loss: 2.2670\n",
            "Epoch 78/80\n",
            "145/145 - 8s - 54ms/step - accuracy: 0.9377 - loss: 0.1060 - val_accuracy: 0.4242 - val_loss: 2.3052\n",
            "Epoch 79/80\n",
            "145/145 - 11s - 73ms/step - accuracy: 0.9377 - loss: 0.1063 - val_accuracy: 0.3939 - val_loss: 2.2694\n",
            "Epoch 80/80\n",
            "145/145 - 10s - 71ms/step - accuracy: 0.9343 - loss: 0.1046 - val_accuracy: 0.3939 - val_loss: 2.2777\n",
            "CPU times: user 17min 24s, sys: 1min 24s, total: 18min 48s\n",
            "Wall time: 12min 21s\n"
          ]
        },
        {
          "output_type": "execute_result",
          "data": {
            "text/plain": [
              "<keras.src.callbacks.history.History at 0x7a14af1ed8d0>"
            ]
          },
          "metadata": {},
          "execution_count": 9
        }
      ]
    },
    {
      "cell_type": "code",
      "source": [
        "# Plot error\n",
        "import matplotlib.pyplot as plt\n",
        "\n",
        "plt.plot(model.history.history['loss'])\n",
        "plt.plot(model.history.history['val_loss'])\n",
        "plt.title('model loss')\n",
        "plt.ylabel('loss')\n",
        "plt.xlabel('epoch')\n",
        "plt.legend(['train', 'val'], loc='upper left')\n",
        "plt.show()"
      ],
      "metadata": {
        "colab": {
          "base_uri": "https://localhost:8080/",
          "height": 472
        },
        "id": "9GdhDOiiTo_8",
        "outputId": "cec0c289-648f-4531-b324-a7a34df2e295"
      },
      "execution_count": 16,
      "outputs": [
        {
          "output_type": "display_data",
          "data": {
            "text/plain": [
              "<Figure size 640x480 with 1 Axes>"
            ],
            "image/png": "[encoded data removed]"
          },
          "metadata": {}
        }
      ]
    },
    {
      "cell_type": "code",
      "source": [
        "# Display the model summary\n",
        "model.summary()"
      ],
      "metadata": {
        "colab": {
          "base_uri": "https://localhost:8080/",
          "height": 497
        },
        "id": "ATtFGOvGgyEO",
        "outputId": "44d4390d-cd7e-472a-91e0-3612a000bc4e"
      },
      "execution_count": 17,
      "outputs": [
        {
          "output_type": "display_data",
          "data": {
            "text/plain": [
              "\u001b[1mModel: \"functional\"\u001b[0m\n"
            ],
            "text/html": [
              "<pre style=\"white-space:pre;overflow-x:auto;line-height:normal;font-family:Menlo,'DejaVu Sans Mono',consolas,'Courier New',monospace\"><span style=\"font-weight: bold\">Model: \"functional\"</span>\n",
              "</pre>\n"
            ]
          },
          "metadata": {}
        },
        {
          "output_type": "display_data",
          "data": {
            "text/plain": [
              "┏━━━━━━━━━━━━━━━━━━━━━━━━━━━┳━━━━━━━━━━━━━━━━━━━━━━━━┳━━━━━━━━━━━━━━━━┳━━━━━━━━━━━━━━━━━━━━━━━━┓\n",
              "┃\u001b[1m \u001b[0m\u001b[1mLayer (type)             \u001b[0m\u001b[1m \u001b[0m┃\u001b[1m \u001b[0m\u001b[1mOutput Shape          \u001b[0m\u001b[1m \u001b[0m┃\u001b[1m \u001b[0m\u001b[1m       Param #\u001b[0m\u001b[1m \u001b[0m┃\u001b[1m \u001b[0m\u001b[1mConnected to          \u001b[0m\u001b[1m \u001b[0m┃\n",
              "┡━━━━━━━━━━━━━━━━━━━━━━━━━━━╇━━━━━━━━━━━━━━━━━━━━━━━━╇━━━━━━━━━━━━━━━━╇━━━━━━━━━━━━━━━━━━━━━━━━┩\n",
              "│ text_input (\u001b[38;5;33mInputLayer\u001b[0m)   │ (\u001b[38;5;45mNone\u001b[0m, \u001b[38;5;34m26\u001b[0m)             │              \u001b[38;5;34m0\u001b[0m │ -                      │\n",
              "├───────────────────────────┼────────────────────────┼────────────────┼────────────────────────┤\n",
              "│ embedding (\u001b[38;5;33mEmbedding\u001b[0m)     │ (\u001b[38;5;45mNone\u001b[0m, \u001b[38;5;34m26\u001b[0m, \u001b[38;5;34m16\u001b[0m)         │         \u001b[38;5;34m14,528\u001b[0m │ text_input[\u001b[38;5;34m0\u001b[0m][\u001b[38;5;34m0\u001b[0m]       │\n",
              "├───────────────────────────┼────────────────────────┼────────────────┼────────────────────────┤\n",
              "│ flatten (\u001b[38;5;33mFlatten\u001b[0m)         │ (\u001b[38;5;45mNone\u001b[0m, \u001b[38;5;34m416\u001b[0m)            │              \u001b[38;5;34m0\u001b[0m │ embedding[\u001b[38;5;34m0\u001b[0m][\u001b[38;5;34m0\u001b[0m]        │\n",
              "├───────────────────────────┼────────────────────────┼────────────────┼────────────────────────┤\n",
              "│ dense (\u001b[38;5;33mDense\u001b[0m)             │ (\u001b[38;5;45mNone\u001b[0m, \u001b[38;5;34m2048\u001b[0m)           │        \u001b[38;5;34m854,016\u001b[0m │ flatten[\u001b[38;5;34m0\u001b[0m][\u001b[38;5;34m0\u001b[0m]          │\n",
              "├───────────────────────────┼────────────────────────┼────────────────┼────────────────────────┤\n",
              "│ dense_1 (\u001b[38;5;33mDense\u001b[0m)           │ (\u001b[38;5;45mNone\u001b[0m, \u001b[38;5;34m1024\u001b[0m)           │      \u001b[38;5;34m2,098,176\u001b[0m │ dense[\u001b[38;5;34m0\u001b[0m][\u001b[38;5;34m0\u001b[0m]            │\n",
              "├───────────────────────────┼────────────────────────┼────────────────┼────────────────────────┤\n",
              "│ func_rating_input         │ (\u001b[38;5;45mNone\u001b[0m, \u001b[38;5;34m1\u001b[0m)              │              \u001b[38;5;34m0\u001b[0m │ -                      │\n",
              "│ (\u001b[38;5;33mInputLayer\u001b[0m)              │                        │                │                        │\n",
              "├───────────────────────────┼────────────────────────┼────────────────┼────────────────────────┤\n",
              "│ dense_2 (\u001b[38;5;33mDense\u001b[0m)           │ (\u001b[38;5;45mNone\u001b[0m, \u001b[38;5;34m512\u001b[0m)            │        \u001b[38;5;34m524,800\u001b[0m │ dense_1[\u001b[38;5;34m0\u001b[0m][\u001b[38;5;34m0\u001b[0m]          │\n",
              "├───────────────────────────┼────────────────────────┼────────────────┼────────────────────────┤\n",
              "│ dense_3 (\u001b[38;5;33mDense\u001b[0m)           │ (\u001b[38;5;45mNone\u001b[0m, \u001b[38;5;34m32\u001b[0m)             │             \u001b[38;5;34m64\u001b[0m │ func_rating_input[\u001b[38;5;34m0\u001b[0m][\u001b[38;5;34m…\u001b[0m │\n",
              "├───────────────────────────┼────────────────────────┼────────────────┼────────────────────────┤\n",
              "│ concatenate (\u001b[38;5;33mConcatenate\u001b[0m) │ (\u001b[38;5;45mNone\u001b[0m, \u001b[38;5;34m544\u001b[0m)            │              \u001b[38;5;34m0\u001b[0m │ dense_2[\u001b[38;5;34m0\u001b[0m][\u001b[38;5;34m0\u001b[0m],         │\n",
              "│                           │                        │                │ dense_3[\u001b[38;5;34m0\u001b[0m][\u001b[38;5;34m0\u001b[0m]          │\n",
              "├───────────────────────────┼────────────────────────┼────────────────┼────────────────────────┤\n",
              "│ output (\u001b[38;5;33mDense\u001b[0m)            │ (\u001b[38;5;45mNone\u001b[0m, \u001b[38;5;34m6\u001b[0m)              │          \u001b[38;5;34m3,270\u001b[0m │ concatenate[\u001b[38;5;34m0\u001b[0m][\u001b[38;5;34m0\u001b[0m]      │\n",
              "└───────────────────────────┴────────────────────────┴────────────────┴────────────────────────┘\n"
            ],
            "text/html": [
              "<pre style=\"white-space:pre;overflow-x:auto;line-height:normal;font-family:Menlo,'DejaVu Sans Mono',consolas,'Courier New',monospace\">┏━━━━━━━━━━━━━━━━━━━━━━━━━━━┳━━━━━━━━━━━━━━━━━━━━━━━━┳━━━━━━━━━━━━━━━━┳━━━━━━━━━━━━━━━━━━━━━━━━┓\n",
              "┃<span style=\"font-weight: bold\"> Layer (type)              </span>┃<span style=\"font-weight: bold\"> Output Shape           </span>┃<span style=\"font-weight: bold\">        Param # </span>┃<span style=\"font-weight: bold\"> Connected to           </span>┃\n",
              "┡━━━━━━━━━━━━━━━━━━━━━━━━━━━╇━━━━━━━━━━━━━━━━━━━━━━━━╇━━━━━━━━━━━━━━━━╇━━━━━━━━━━━━━━━━━━━━━━━━┩\n",
              "│ text_input (<span style=\"color: #0087ff; text-decoration-color: #0087ff\">InputLayer</span>)   │ (<span style=\"color: #00d7ff; text-decoration-color: #00d7ff\">None</span>, <span style=\"color: #00af00; text-decoration-color: #00af00\">26</span>)             │              <span style=\"color: #00af00; text-decoration-color: #00af00\">0</span> │ -                      │\n",
              "├───────────────────────────┼────────────────────────┼────────────────┼────────────────────────┤\n",
              "│ embedding (<span style=\"color: #0087ff; text-decoration-color: #0087ff\">Embedding</span>)     │ (<span style=\"color: #00d7ff; text-decoration-color: #00d7ff\">None</span>, <span style=\"color: #00af00; text-decoration-color: #00af00\">26</span>, <span style=\"color: #00af00; text-decoration-color: #00af00\">16</span>)         │         <span style=\"color: #00af00; text-decoration-color: #00af00\">14,528</span> │ text_input[<span style=\"color: #00af00; text-decoration-color: #00af00\">0</span>][<span style=\"color: #00af00; text-decoration-color: #00af00\">0</span>]       │\n",
              "├───────────────────────────┼────────────────────────┼────────────────┼────────────────────────┤\n",
              "│ flatten (<span style=\"color: #0087ff; text-decoration-color: #0087ff\">Flatten</span>)         │ (<span style=\"color: #00d7ff; text-decoration-color: #00d7ff\">None</span>, <span style=\"color: #00af00; text-decoration-color: #00af00\">416</span>)            │              <span style=\"color: #00af00; text-decoration-color: #00af00\">0</span> │ embedding[<span style=\"color: #00af00; text-decoration-color: #00af00\">0</span>][<span style=\"color: #00af00; text-decoration-color: #00af00\">0</span>]        │\n",
              "├───────────────────────────┼────────────────────────┼────────────────┼────────────────────────┤\n",
              "│ dense (<span style=\"color: #0087ff; text-decoration-color: #0087ff\">Dense</span>)             │ (<span style=\"color: #00d7ff; text-decoration-color: #00d7ff\">None</span>, <span style=\"color: #00af00; text-decoration-color: #00af00\">2048</span>)           │        <span style=\"color: #00af00; text-decoration-color: #00af00\">854,016</span> │ flatten[<span style=\"color: #00af00; text-decoration-color: #00af00\">0</span>][<span style=\"color: #00af00; text-decoration-color: #00af00\">0</span>]          │\n",
              "├───────────────────────────┼────────────────────────┼────────────────┼────────────────────────┤\n",
              "│ dense_1 (<span style=\"color: #0087ff; text-decoration-color: #0087ff\">Dense</span>)           │ (<span style=\"color: #00d7ff; text-decoration-color: #00d7ff\">None</span>, <span style=\"color: #00af00; text-decoration-color: #00af00\">1024</span>)           │      <span style=\"color: #00af00; text-decoration-color: #00af00\">2,098,176</span> │ dense[<span style=\"color: #00af00; text-decoration-color: #00af00\">0</span>][<span style=\"color: #00af00; text-decoration-color: #00af00\">0</span>]            │\n",
              "├───────────────────────────┼────────────────────────┼────────────────┼────────────────────────┤\n",
              "│ func_rating_input         │ (<span style=\"color: #00d7ff; text-decoration-color: #00d7ff\">None</span>, <span style=\"color: #00af00; text-decoration-color: #00af00\">1</span>)              │              <span style=\"color: #00af00; text-decoration-color: #00af00\">0</span> │ -                      │\n",
              "│ (<span style=\"color: #0087ff; text-decoration-color: #0087ff\">InputLayer</span>)              │                        │                │                        │\n",
              "├───────────────────────────┼────────────────────────┼────────────────┼────────────────────────┤\n",
              "│ dense_2 (<span style=\"color: #0087ff; text-decoration-color: #0087ff\">Dense</span>)           │ (<span style=\"color: #00d7ff; text-decoration-color: #00d7ff\">None</span>, <span style=\"color: #00af00; text-decoration-color: #00af00\">512</span>)            │        <span style=\"color: #00af00; text-decoration-color: #00af00\">524,800</span> │ dense_1[<span style=\"color: #00af00; text-decoration-color: #00af00\">0</span>][<span style=\"color: #00af00; text-decoration-color: #00af00\">0</span>]          │\n",
              "├───────────────────────────┼────────────────────────┼────────────────┼────────────────────────┤\n",
              "│ dense_3 (<span style=\"color: #0087ff; text-decoration-color: #0087ff\">Dense</span>)           │ (<span style=\"color: #00d7ff; text-decoration-color: #00d7ff\">None</span>, <span style=\"color: #00af00; text-decoration-color: #00af00\">32</span>)             │             <span style=\"color: #00af00; text-decoration-color: #00af00\">64</span> │ func_rating_input[<span style=\"color: #00af00; text-decoration-color: #00af00\">0</span>][<span style=\"color: #00af00; text-decoration-color: #00af00\">…</span> │\n",
              "├───────────────────────────┼────────────────────────┼────────────────┼────────────────────────┤\n",
              "│ concatenate (<span style=\"color: #0087ff; text-decoration-color: #0087ff\">Concatenate</span>) │ (<span style=\"color: #00d7ff; text-decoration-color: #00d7ff\">None</span>, <span style=\"color: #00af00; text-decoration-color: #00af00\">544</span>)            │              <span style=\"color: #00af00; text-decoration-color: #00af00\">0</span> │ dense_2[<span style=\"color: #00af00; text-decoration-color: #00af00\">0</span>][<span style=\"color: #00af00; text-decoration-color: #00af00\">0</span>],         │\n",
              "│                           │                        │                │ dense_3[<span style=\"color: #00af00; text-decoration-color: #00af00\">0</span>][<span style=\"color: #00af00; text-decoration-color: #00af00\">0</span>]          │\n",
              "├───────────────────────────┼────────────────────────┼────────────────┼────────────────────────┤\n",
              "│ output (<span style=\"color: #0087ff; text-decoration-color: #0087ff\">Dense</span>)            │ (<span style=\"color: #00d7ff; text-decoration-color: #00d7ff\">None</span>, <span style=\"color: #00af00; text-decoration-color: #00af00\">6</span>)              │          <span style=\"color: #00af00; text-decoration-color: #00af00\">3,270</span> │ concatenate[<span style=\"color: #00af00; text-decoration-color: #00af00\">0</span>][<span style=\"color: #00af00; text-decoration-color: #00af00\">0</span>]      │\n",
              "└───────────────────────────┴────────────────────────┴────────────────┴────────────────────────┘\n",
              "</pre>\n"
            ]
          },
          "metadata": {}
        },
        {
          "output_type": "display_data",
          "data": {
            "text/plain": [
              "\u001b[1m Total params: \u001b[0m\u001b[38;5;34m10,484,564\u001b[0m (40.00 MB)\n"
            ],
            "text/html": [
              "<pre style=\"white-space:pre;overflow-x:auto;line-height:normal;font-family:Menlo,'DejaVu Sans Mono',consolas,'Courier New',monospace\"><span style=\"font-weight: bold\"> Total params: </span><span style=\"color: #00af00; text-decoration-color: #00af00\">10,484,564</span> (40.00 MB)\n",
              "</pre>\n"
            ]
          },
          "metadata": {}
        },
        {
          "output_type": "display_data",
          "data": {
            "text/plain": [
              "\u001b[1m Trainable params: \u001b[0m\u001b[38;5;34m3,494,854\u001b[0m (13.33 MB)\n"
            ],
            "text/html": [
              "<pre style=\"white-space:pre;overflow-x:auto;line-height:normal;font-family:Menlo,'DejaVu Sans Mono',consolas,'Courier New',monospace\"><span style=\"font-weight: bold\"> Trainable params: </span><span style=\"color: #00af00; text-decoration-color: #00af00\">3,494,854</span> (13.33 MB)\n",
              "</pre>\n"
            ]
          },
          "metadata": {}
        },
        {
          "output_type": "display_data",
          "data": {
            "text/plain": [
              "\u001b[1m Non-trainable params: \u001b[0m\u001b[38;5;34m0\u001b[0m (0.00 B)\n"
            ],
            "text/html": [
              "<pre style=\"white-space:pre;overflow-x:auto;line-height:normal;font-family:Menlo,'DejaVu Sans Mono',consolas,'Courier New',monospace\"><span style=\"font-weight: bold\"> Non-trainable params: </span><span style=\"color: #00af00; text-decoration-color: #00af00\">0</span> (0.00 B)\n",
              "</pre>\n"
            ]
          },
          "metadata": {}
        },
        {
          "output_type": "display_data",
          "data": {
            "text/plain": [
              "\u001b[1m Optimizer params: \u001b[0m\u001b[38;5;34m6,989,710\u001b[0m (26.66 MB)\n"
            ],
            "text/html": [
              "<pre style=\"white-space:pre;overflow-x:auto;line-height:normal;font-family:Menlo,'DejaVu Sans Mono',consolas,'Courier New',monospace\"><span style=\"font-weight: bold\"> Optimizer params: </span><span style=\"color: #00af00; text-decoration-color: #00af00\">6,989,710</span> (26.66 MB)\n",
              "</pre>\n"
            ]
          },
          "metadata": {}
        }
      ]
    },
    {
      "cell_type": "code",
      "source": [
        "! pip install --upgrade huggingface_hub"
      ],
      "metadata": {
        "colab": {
          "base_uri": "https://localhost:8080/"
        },
        "id": "yaHMtOGwjPSn",
        "outputId": "33ad9930-02bc-463c-e883-ebc0709ba658"
      },
      "execution_count": 18,
      "outputs": [
        {
          "output_type": "stream",
          "name": "stdout",
          "text": [
            "Requirement already satisfied: huggingface_hub in /usr/local/lib/python3.11/dist-packages (0.29.1)\n",
            "Requirement already satisfied: filelock in /usr/local/lib/python3.11/dist-packages (from huggingface_hub) (3.17.0)\n",
            "Requirement already satisfied: fsspec>=2023.5.0 in /usr/local/lib/python3.11/dist-packages (from huggingface_hub) (2024.10.0)\n",
            "Requirement already satisfied: packaging>=20.9 in /usr/local/lib/python3.11/dist-packages (from huggingface_hub) (24.2)\n",
            "Requirement already satisfied: pyyaml>=5.1 in /usr/local/lib/python3.11/dist-packages (from huggingface_hub) (6.0.2)\n",
            "Requirement already satisfied: requests in /usr/local/lib/python3.11/dist-packages (from huggingface_hub) (2.32.3)\n",
            "Requirement already satisfied: tqdm>=4.42.1 in /usr/local/lib/python3.11/dist-packages (from huggingface_hub) (4.67.1)\n",
            "Requirement already satisfied: typing-extensions>=3.7.4.3 in /usr/local/lib/python3.11/dist-packages (from huggingface_hub) (4.12.2)\n",
            "Requirement already satisfied: charset-normalizer<4,>=2 in /usr/local/lib/python3.11/dist-packages (from requests->huggingface_hub) (3.4.1)\n",
            "Requirement already satisfied: idna<4,>=2.5 in /usr/local/lib/python3.11/dist-packages (from requests->huggingface_hub) (3.10)\n",
            "Requirement already satisfied: urllib3<3,>=1.21.1 in /usr/local/lib/python3.11/dist-packages (from requests->huggingface_hub) (2.3.0)\n",
            "Requirement already satisfied: certifi>=2017.4.17 in /usr/local/lib/python3.11/dist-packages (from requests->huggingface_hub) (2025.1.31)\n"
          ]
        }
      ]
    },
    {
      "cell_type": "code",
      "source": [
        "from huggingface_hub import HfApi, login\n",
        "\n",
        "hf_token = \"your_token\"  # Replace with your actual token\n",
        "\n",
        "# Log in to Hugging Face\n",
        "login(token=hf_token)\n",
        "\n",
        "hf_username = \"bhairavee37\"  # Replace with your username\n",
        "repo_name = \"my-nn-model\"\n",
        "repo_id = f\"{hf_username}/{repo_name}\"\n",
        "\n",
        "api = HfApi()\n",
        "\n",
        "# Create the repository\n",
        "api.create_repo(repo_id=repo_id, exist_ok=True)\n",
        "\n",
        "print(f\"Repository created: https://huggingface.co/{repo_id}\")"
      ],
      "metadata": {
        "colab": {
          "base_uri": "https://localhost:8080/"
        },
        "id": "5sLbWfr4h5gU",
        "outputId": "911c0f4f-4ecb-49f8-84a9-7b533019f403"
      },
      "execution_count": 19,
      "outputs": [
        {
          "output_type": "stream",
          "name": "stdout",
          "text": [
            "Repository created: https://huggingface.co/bhairavee37/my-nn-model\n"
          ]
        }
      ]
    },
    {
      "cell_type": "code",
      "source": [
        "import pickle\n",
        "import os\n",
        "from huggingface_hub import HfApi\n",
        "import tensorflow as tf\n",
        "from tensorflow.keras.preprocessing.text import Tokenizer\n",
        "\n",
        "# Define save directory\n",
        "model_dir = \"./saved_model\"\n",
        "os.makedirs(model_dir, exist_ok=True)\n",
        "\n",
        "# Save the model\n",
        "model_path = os.path.join(model_dir, \"model.keras\")\n",
        "model.save(model_path)\n",
        "\n",
        "# Save the tokenizer as a pickle file\n",
        "tokenizer_path = os.path.join(model_dir, \"tokenizer.pkl\")\n",
        "with open(tokenizer_path, \"wb\") as f:\n",
        "    pickle.dump(tokenizer, f)\n",
        "\n",
        "# Upload model and tokenizer to Hugging Face\n",
        "repo_id = f\"{hf_username}/{repo_name}\"  # Change as needed\n",
        "api = HfApi()\n",
        "\n",
        "api.upload_file(path_or_fileobj=model_path, path_in_repo=\"model.keras\", repo_id=repo_id)\n",
        "api.upload_file(path_or_fileobj=tokenizer_path, path_in_repo=\"tokenizer.pkl\", repo_id=repo_id)\n",
        "\n",
        "print(f\"Model and tokenizer successfully pushed to: https://huggingface.co/{repo_id}\")"
      ],
      "metadata": {
        "colab": {
          "base_uri": "https://localhost:8080/",
          "height": 103,
          "referenced_widgets": [
            "4518b71c6d6f41e88af5060db527e5d0",
            "6a0a96efa3984703890d304fe384563b",
            "b7048700789f463683010f2373ec75f8",
            "1df5351dd241434b8139cd42f8b0ee74",
            "104e4a556bd64bf9892b429c91944c52",
            "89b141d4cfec46ae8c24907ab007a55a",
            "f12b89d8e70f4279a3863ec49f0f0d42",
            "ad453983ab9445d9aca7d82c3a5f250c",
            "915bf50b74ca4463b6004b49dc4f4c83",
            "74ae7564a3244513ada4cada5da443b5",
            "a17cc74617714eaf8b834dd183418cc7"
          ]
        },
        "id": "wTVyDritk7ks",
        "outputId": "9212f94a-bab2-4dfb-caa2-fe696f4f699d"
      },
      "execution_count": 20,
      "outputs": [
        {
          "output_type": "display_data",
          "data": {
            "text/plain": [
              "model.keras:   0%|          | 0.00/42.0M [00:00<?, ?B/s]"
            ],
            "application/vnd.jupyter.widget-view+json": {
              "version_major": 2,
              "version_minor": 0,
              "model_id": "4518b71c6d6f41e88af5060db527e5d0"
            }
          },
          "metadata": {}
        },
        {
          "output_type": "stream",
          "name": "stderr",
          "text": [
            "No files have been modified since last commit. Skipping to prevent empty commit.\n",
            "WARNING:huggingface_hub.hf_api:No files have been modified since last commit. Skipping to prevent empty commit.\n"
          ]
        },
        {
          "output_type": "stream",
          "name": "stdout",
          "text": [
            "Model and tokenizer successfully pushed to: https://huggingface.co/bhairavee37/my-nn-model\n"
          ]
        }
      ]
    },
    {
      "cell_type": "code",
      "source": [
        "import os\n",
        "import numpy as np\n",
        "import tensorflow as tf\n",
        "from tensorflow import keras\n",
        "from huggingface_hub import hf_hub_download\n",
        "\n",
        "# Set Keras backend to JAX (Optional, only needed if you want to experiment with JAX backend)\n",
        "os.environ[\"KERAS_BACKEND\"] = \"jax\"\n",
        "\n",
        "# Define repo ID and model filename\n",
        "# repo_id = \"eagle0504/my-tf-nn-model\" # we already defined it above\n",
        "filename = \"model.keras\"  # Ensure this matches what was uploaded\n",
        "\n",
        "# Download the model\n",
        "model_path = hf_hub_download(repo_id=repo_id, filename=filename)\n",
        "\n",
        "# Load the Keras model\n",
        "new_model = keras.models.load_model(model_path)\n",
        "\n",
        "print(\"Model loaded successfully!\")"
      ],
      "metadata": {
        "colab": {
          "base_uri": "https://localhost:8080/",
          "height": 67,
          "referenced_widgets": [
            "cffd9c5d970c4774baa605cbb5b98781",
            "88ad70357d21426aa843440f67de1be2",
            "5e180d678ded44e9822cdfbaf972c959",
            "4699bda5073049e8940a05762030880d",
            "775084b3247848c8bf1e8832c7d60212",
            "f610ace6fe7347509dcc16b6dd1ee2dc",
            "262e86f6f26a4402a5a6837b0fe5e711",
            "e69aaa30bc68482283dbead045b1e5ce",
            "07872dc954a84834a2b9c61d5a86aeac",
            "750311a9d5f74669ae5cd248d1c175de",
            "f47d0bd3384f437eadb91e473b29a201"
          ]
        },
        "id": "jHMCD5ogaMLI",
        "outputId": "bdfaccec-5b36-4862-c7f1-d50520866991"
      },
      "execution_count": 21,
      "outputs": [
        {
          "output_type": "display_data",
          "data": {
            "text/plain": [
              "model.keras:   0%|          | 0.00/42.0M [00:00<?, ?B/s]"
            ],
            "application/vnd.jupyter.widget-view+json": {
              "version_major": 2,
              "version_minor": 0,
              "model_id": "cffd9c5d970c4774baa605cbb5b98781"
            }
          },
          "metadata": {}
        },
        {
          "output_type": "stream",
          "name": "stdout",
          "text": [
            "Model loaded successfully!\n"
          ]
        }
      ]
    },
    {
      "cell_type": "code",
      "source": [
        "new_model.summary()"
      ],
      "metadata": {
        "colab": {
          "base_uri": "https://localhost:8080/",
          "height": 497
        },
        "id": "iqI_CqLxhpJs",
        "outputId": "9711ca96-dd61-400e-beef-5277f983e949"
      },
      "execution_count": 22,
      "outputs": [
        {
          "output_type": "display_data",
          "data": {
            "text/plain": [
              "\u001b[1mModel: \"functional\"\u001b[0m\n"
            ],
            "text/html": [
              "<pre style=\"white-space:pre;overflow-x:auto;line-height:normal;font-family:Menlo,'DejaVu Sans Mono',consolas,'Courier New',monospace\"><span style=\"font-weight: bold\">Model: \"functional\"</span>\n",
              "</pre>\n"
            ]
          },
          "metadata": {}
        },
        {
          "output_type": "display_data",
          "data": {
            "text/plain": [
              "┏━━━━━━━━━━━━━━━━━━━━━━━━━━━┳━━━━━━━━━━━━━━━━━━━━━━━━┳━━━━━━━━━━━━━━━━┳━━━━━━━━━━━━━━━━━━━━━━━━┓\n",
              "┃\u001b[1m \u001b[0m\u001b[1mLayer (type)             \u001b[0m\u001b[1m \u001b[0m┃\u001b[1m \u001b[0m\u001b[1mOutput Shape          \u001b[0m\u001b[1m \u001b[0m┃\u001b[1m \u001b[0m\u001b[1m       Param #\u001b[0m\u001b[1m \u001b[0m┃\u001b[1m \u001b[0m\u001b[1mConnected to          \u001b[0m\u001b[1m \u001b[0m┃\n",
              "┡━━━━━━━━━━━━━━━━━━━━━━━━━━━╇━━━━━━━━━━━━━━━━━━━━━━━━╇━━━━━━━━━━━━━━━━╇━━━━━━━━━━━━━━━━━━━━━━━━┩\n",
              "│ text_input (\u001b[38;5;33mInputLayer\u001b[0m)   │ (\u001b[38;5;45mNone\u001b[0m, \u001b[38;5;34m26\u001b[0m)             │              \u001b[38;5;34m0\u001b[0m │ -                      │\n",
              "├───────────────────────────┼────────────────────────┼────────────────┼────────────────────────┤\n",
              "│ embedding (\u001b[38;5;33mEmbedding\u001b[0m)     │ (\u001b[38;5;45mNone\u001b[0m, \u001b[38;5;34m26\u001b[0m, \u001b[38;5;34m16\u001b[0m)         │         \u001b[38;5;34m14,528\u001b[0m │ text_input[\u001b[38;5;34m0\u001b[0m][\u001b[38;5;34m0\u001b[0m]       │\n",
              "├───────────────────────────┼────────────────────────┼────────────────┼────────────────────────┤\n",
              "│ flatten (\u001b[38;5;33mFlatten\u001b[0m)         │ (\u001b[38;5;45mNone\u001b[0m, \u001b[38;5;34m416\u001b[0m)            │              \u001b[38;5;34m0\u001b[0m │ embedding[\u001b[38;5;34m0\u001b[0m][\u001b[38;5;34m0\u001b[0m]        │\n",
              "├───────────────────────────┼────────────────────────┼────────────────┼────────────────────────┤\n",
              "│ dense (\u001b[38;5;33mDense\u001b[0m)             │ (\u001b[38;5;45mNone\u001b[0m, \u001b[38;5;34m2048\u001b[0m)           │        \u001b[38;5;34m854,016\u001b[0m │ flatten[\u001b[38;5;34m0\u001b[0m][\u001b[38;5;34m0\u001b[0m]          │\n",
              "├───────────────────────────┼────────────────────────┼────────────────┼────────────────────────┤\n",
              "│ dense_1 (\u001b[38;5;33mDense\u001b[0m)           │ (\u001b[38;5;45mNone\u001b[0m, \u001b[38;5;34m1024\u001b[0m)           │      \u001b[38;5;34m2,098,176\u001b[0m │ dense[\u001b[38;5;34m0\u001b[0m][\u001b[38;5;34m0\u001b[0m]            │\n",
              "├───────────────────────────┼────────────────────────┼────────────────┼────────────────────────┤\n",
              "│ func_rating_input         │ (\u001b[38;5;45mNone\u001b[0m, \u001b[38;5;34m1\u001b[0m)              │              \u001b[38;5;34m0\u001b[0m │ -                      │\n",
              "│ (\u001b[38;5;33mInputLayer\u001b[0m)              │                        │                │                        │\n",
              "├───────────────────────────┼────────────────────────┼────────────────┼────────────────────────┤\n",
              "│ dense_2 (\u001b[38;5;33mDense\u001b[0m)           │ (\u001b[38;5;45mNone\u001b[0m, \u001b[38;5;34m512\u001b[0m)            │        \u001b[38;5;34m524,800\u001b[0m │ dense_1[\u001b[38;5;34m0\u001b[0m][\u001b[38;5;34m0\u001b[0m]          │\n",
              "├───────────────────────────┼────────────────────────┼────────────────┼────────────────────────┤\n",
              "│ dense_3 (\u001b[38;5;33mDense\u001b[0m)           │ (\u001b[38;5;45mNone\u001b[0m, \u001b[38;5;34m32\u001b[0m)             │             \u001b[38;5;34m64\u001b[0m │ func_rating_input[\u001b[38;5;34m0\u001b[0m][\u001b[38;5;34m…\u001b[0m │\n",
              "├───────────────────────────┼────────────────────────┼────────────────┼────────────────────────┤\n",
              "│ concatenate (\u001b[38;5;33mConcatenate\u001b[0m) │ (\u001b[38;5;45mNone\u001b[0m, \u001b[38;5;34m544\u001b[0m)            │              \u001b[38;5;34m0\u001b[0m │ dense_2[\u001b[38;5;34m0\u001b[0m][\u001b[38;5;34m0\u001b[0m],         │\n",
              "│                           │                        │                │ dense_3[\u001b[38;5;34m0\u001b[0m][\u001b[38;5;34m0\u001b[0m]          │\n",
              "├───────────────────────────┼────────────────────────┼────────────────┼────────────────────────┤\n",
              "│ output (\u001b[38;5;33mDense\u001b[0m)            │ (\u001b[38;5;45mNone\u001b[0m, \u001b[38;5;34m6\u001b[0m)              │          \u001b[38;5;34m3,270\u001b[0m │ concatenate[\u001b[38;5;34m0\u001b[0m][\u001b[38;5;34m0\u001b[0m]      │\n",
              "└───────────────────────────┴────────────────────────┴────────────────┴────────────────────────┘\n"
            ],
            "text/html": [
              "<pre style=\"white-space:pre;overflow-x:auto;line-height:normal;font-family:Menlo,'DejaVu Sans Mono',consolas,'Courier New',monospace\">┏━━━━━━━━━━━━━━━━━━━━━━━━━━━┳━━━━━━━━━━━━━━━━━━━━━━━━┳━━━━━━━━━━━━━━━━┳━━━━━━━━━━━━━━━━━━━━━━━━┓\n",
              "┃<span style=\"font-weight: bold\"> Layer (type)              </span>┃<span style=\"font-weight: bold\"> Output Shape           </span>┃<span style=\"font-weight: bold\">        Param # </span>┃<span style=\"font-weight: bold\"> Connected to           </span>┃\n",
              "┡━━━━━━━━━━━━━━━━━━━━━━━━━━━╇━━━━━━━━━━━━━━━━━━━━━━━━╇━━━━━━━━━━━━━━━━╇━━━━━━━━━━━━━━━━━━━━━━━━┩\n",
              "│ text_input (<span style=\"color: #0087ff; text-decoration-color: #0087ff\">InputLayer</span>)   │ (<span style=\"color: #00d7ff; text-decoration-color: #00d7ff\">None</span>, <span style=\"color: #00af00; text-decoration-color: #00af00\">26</span>)             │              <span style=\"color: #00af00; text-decoration-color: #00af00\">0</span> │ -                      │\n",
              "├───────────────────────────┼────────────────────────┼────────────────┼────────────────────────┤\n",
              "│ embedding (<span style=\"color: #0087ff; text-decoration-color: #0087ff\">Embedding</span>)     │ (<span style=\"color: #00d7ff; text-decoration-color: #00d7ff\">None</span>, <span style=\"color: #00af00; text-decoration-color: #00af00\">26</span>, <span style=\"color: #00af00; text-decoration-color: #00af00\">16</span>)         │         <span style=\"color: #00af00; text-decoration-color: #00af00\">14,528</span> │ text_input[<span style=\"color: #00af00; text-decoration-color: #00af00\">0</span>][<span style=\"color: #00af00; text-decoration-color: #00af00\">0</span>]       │\n",
              "├───────────────────────────┼────────────────────────┼────────────────┼────────────────────────┤\n",
              "│ flatten (<span style=\"color: #0087ff; text-decoration-color: #0087ff\">Flatten</span>)         │ (<span style=\"color: #00d7ff; text-decoration-color: #00d7ff\">None</span>, <span style=\"color: #00af00; text-decoration-color: #00af00\">416</span>)            │              <span style=\"color: #00af00; text-decoration-color: #00af00\">0</span> │ embedding[<span style=\"color: #00af00; text-decoration-color: #00af00\">0</span>][<span style=\"color: #00af00; text-decoration-color: #00af00\">0</span>]        │\n",
              "├───────────────────────────┼────────────────────────┼────────────────┼────────────────────────┤\n",
              "│ dense (<span style=\"color: #0087ff; text-decoration-color: #0087ff\">Dense</span>)             │ (<span style=\"color: #00d7ff; text-decoration-color: #00d7ff\">None</span>, <span style=\"color: #00af00; text-decoration-color: #00af00\">2048</span>)           │        <span style=\"color: #00af00; text-decoration-color: #00af00\">854,016</span> │ flatten[<span style=\"color: #00af00; text-decoration-color: #00af00\">0</span>][<span style=\"color: #00af00; text-decoration-color: #00af00\">0</span>]          │\n",
              "├───────────────────────────┼────────────────────────┼────────────────┼────────────────────────┤\n",
              "│ dense_1 (<span style=\"color: #0087ff; text-decoration-color: #0087ff\">Dense</span>)           │ (<span style=\"color: #00d7ff; text-decoration-color: #00d7ff\">None</span>, <span style=\"color: #00af00; text-decoration-color: #00af00\">1024</span>)           │      <span style=\"color: #00af00; text-decoration-color: #00af00\">2,098,176</span> │ dense[<span style=\"color: #00af00; text-decoration-color: #00af00\">0</span>][<span style=\"color: #00af00; text-decoration-color: #00af00\">0</span>]            │\n",
              "├───────────────────────────┼────────────────────────┼────────────────┼────────────────────────┤\n",
              "│ func_rating_input         │ (<span style=\"color: #00d7ff; text-decoration-color: #00d7ff\">None</span>, <span style=\"color: #00af00; text-decoration-color: #00af00\">1</span>)              │              <span style=\"color: #00af00; text-decoration-color: #00af00\">0</span> │ -                      │\n",
              "│ (<span style=\"color: #0087ff; text-decoration-color: #0087ff\">InputLayer</span>)              │                        │                │                        │\n",
              "├───────────────────────────┼────────────────────────┼────────────────┼────────────────────────┤\n",
              "│ dense_2 (<span style=\"color: #0087ff; text-decoration-color: #0087ff\">Dense</span>)           │ (<span style=\"color: #00d7ff; text-decoration-color: #00d7ff\">None</span>, <span style=\"color: #00af00; text-decoration-color: #00af00\">512</span>)            │        <span style=\"color: #00af00; text-decoration-color: #00af00\">524,800</span> │ dense_1[<span style=\"color: #00af00; text-decoration-color: #00af00\">0</span>][<span style=\"color: #00af00; text-decoration-color: #00af00\">0</span>]          │\n",
              "├───────────────────────────┼────────────────────────┼────────────────┼────────────────────────┤\n",
              "│ dense_3 (<span style=\"color: #0087ff; text-decoration-color: #0087ff\">Dense</span>)           │ (<span style=\"color: #00d7ff; text-decoration-color: #00d7ff\">None</span>, <span style=\"color: #00af00; text-decoration-color: #00af00\">32</span>)             │             <span style=\"color: #00af00; text-decoration-color: #00af00\">64</span> │ func_rating_input[<span style=\"color: #00af00; text-decoration-color: #00af00\">0</span>][<span style=\"color: #00af00; text-decoration-color: #00af00\">…</span> │\n",
              "├───────────────────────────┼────────────────────────┼────────────────┼────────────────────────┤\n",
              "│ concatenate (<span style=\"color: #0087ff; text-decoration-color: #0087ff\">Concatenate</span>) │ (<span style=\"color: #00d7ff; text-decoration-color: #00d7ff\">None</span>, <span style=\"color: #00af00; text-decoration-color: #00af00\">544</span>)            │              <span style=\"color: #00af00; text-decoration-color: #00af00\">0</span> │ dense_2[<span style=\"color: #00af00; text-decoration-color: #00af00\">0</span>][<span style=\"color: #00af00; text-decoration-color: #00af00\">0</span>],         │\n",
              "│                           │                        │                │ dense_3[<span style=\"color: #00af00; text-decoration-color: #00af00\">0</span>][<span style=\"color: #00af00; text-decoration-color: #00af00\">0</span>]          │\n",
              "├───────────────────────────┼────────────────────────┼────────────────┼────────────────────────┤\n",
              "│ output (<span style=\"color: #0087ff; text-decoration-color: #0087ff\">Dense</span>)            │ (<span style=\"color: #00d7ff; text-decoration-color: #00d7ff\">None</span>, <span style=\"color: #00af00; text-decoration-color: #00af00\">6</span>)              │          <span style=\"color: #00af00; text-decoration-color: #00af00\">3,270</span> │ concatenate[<span style=\"color: #00af00; text-decoration-color: #00af00\">0</span>][<span style=\"color: #00af00; text-decoration-color: #00af00\">0</span>]      │\n",
              "└───────────────────────────┴────────────────────────┴────────────────┴────────────────────────┘\n",
              "</pre>\n"
            ]
          },
          "metadata": {}
        },
        {
          "output_type": "display_data",
          "data": {
            "text/plain": [
              "\u001b[1m Total params: \u001b[0m\u001b[38;5;34m10,484,564\u001b[0m (40.00 MB)\n"
            ],
            "text/html": [
              "<pre style=\"white-space:pre;overflow-x:auto;line-height:normal;font-family:Menlo,'DejaVu Sans Mono',consolas,'Courier New',monospace\"><span style=\"font-weight: bold\"> Total params: </span><span style=\"color: #00af00; text-decoration-color: #00af00\">10,484,564</span> (40.00 MB)\n",
              "</pre>\n"
            ]
          },
          "metadata": {}
        },
        {
          "output_type": "display_data",
          "data": {
            "text/plain": [
              "\u001b[1m Trainable params: \u001b[0m\u001b[38;5;34m3,494,854\u001b[0m (13.33 MB)\n"
            ],
            "text/html": [
              "<pre style=\"white-space:pre;overflow-x:auto;line-height:normal;font-family:Menlo,'DejaVu Sans Mono',consolas,'Courier New',monospace\"><span style=\"font-weight: bold\"> Trainable params: </span><span style=\"color: #00af00; text-decoration-color: #00af00\">3,494,854</span> (13.33 MB)\n",
              "</pre>\n"
            ]
          },
          "metadata": {}
        },
        {
          "output_type": "display_data",
          "data": {
            "text/plain": [
              "\u001b[1m Non-trainable params: \u001b[0m\u001b[38;5;34m0\u001b[0m (0.00 B)\n"
            ],
            "text/html": [
              "<pre style=\"white-space:pre;overflow-x:auto;line-height:normal;font-family:Menlo,'DejaVu Sans Mono',consolas,'Courier New',monospace\"><span style=\"font-weight: bold\"> Non-trainable params: </span><span style=\"color: #00af00; text-decoration-color: #00af00\">0</span> (0.00 B)\n",
              "</pre>\n"
            ]
          },
          "metadata": {}
        },
        {
          "output_type": "display_data",
          "data": {
            "text/plain": [
              "\u001b[1m Optimizer params: \u001b[0m\u001b[38;5;34m6,989,710\u001b[0m (26.66 MB)\n"
            ],
            "text/html": [
              "<pre style=\"white-space:pre;overflow-x:auto;line-height:normal;font-family:Menlo,'DejaVu Sans Mono',consolas,'Courier New',monospace\"><span style=\"font-weight: bold\"> Optimizer params: </span><span style=\"color: #00af00; text-decoration-color: #00af00\">6,989,710</span> (26.66 MB)\n",
              "</pre>\n"
            ]
          },
          "metadata": {}
        }
      ]
    },
    {
      "cell_type": "code",
      "source": [
        "import pickle\n",
        "from huggingface_hub import hf_hub_download\n",
        "from tensorflow import keras\n",
        "from tensorflow.keras.preprocessing.sequence import pad_sequences\n",
        "import numpy as np\n",
        "\n",
        "# Define repo details\n",
        "# repo_id = \"eagle0504/my-tf-nn-model\" # we already defined above\n",
        "\n",
        "# Download model\n",
        "# model_path = hf_hub_download(repo_id=repo_id, filename=\"model.keras\")\n",
        "# new_model = keras.models.load_model(model_path)\n",
        "\n",
        "# Download tokenizer\n",
        "tokenizer_path = hf_hub_download(repo_id=repo_id, filename=\"tokenizer.pkl\")\n",
        "\n",
        "# Load the tokenizer\n",
        "with open(tokenizer_path, \"rb\") as f:\n",
        "    tokenizer = pickle.load(f)\n",
        "\n",
        "print(\"Model and tokenizer loaded successfully!\")\n",
        "\n",
        "# Sample test data\n",
        "test_texts = [\n",
        "    \"How to improve focus and concentration?\",\n",
        "    \"What are the side effects of lack of sleep?\",\n",
        "]\n",
        "\n",
        "# Preprocess test data using the loaded tokenizer\n",
        "max_length = model.input_shape[0][1]  # Get max_length from model input shape\n",
        "X_text_test = tokenizer.texts_to_sequences(test_texts)\n",
        "X_text_test = pad_sequences(X_text_test, maxlen=max_length, padding='post')\n",
        "\n",
        "# Dummy numeric input (func_rating)\n",
        "X_func_test = np.array([5, 4]).reshape(-1, 1)\n",
        "\n",
        "# Make predictions\n",
        "predictions = new_model.predict({\"text_input\": X_text_test, \"func_rating_input\": X_func_test})\n",
        "\n",
        "# Display results\n",
        "for i, text in enumerate(test_texts):\n",
        "    print(f\"Prompt: {text}\")\n",
        "    print(f\"Predicted Rating: {predictions[i][0]:.2f}\")\n",
        "    print(\"-\" * 50)"
      ],
      "metadata": {
        "colab": {
          "base_uri": "https://localhost:8080/",
          "height": 194,
          "referenced_widgets": [
            "13bd59879cac43ff9d0db582186587a3",
            "88fa1e36ac12403bbe6e651b3f46f97d",
            "1362ca727fd1434892a71bcaa939f605",
            "fc634bb50b1c4cf6af45b292ffb37190",
            "906e44496f9849c485f94257c8e25454",
            "56799d5051fa495ab523c26f235b3464",
            "505d6c58a1de4159bedaa2d31f0de59e",
            "714f6afb061647ba92620eecd07f64aa",
            "227b2a89425c4e1fa7ff1d662c5e2252",
            "09b43d68073b4ffd92a8e621cbf55f58",
            "e33f6e6127af42dbb31fa6c7ec494bd7"
          ]
        },
        "id": "Oa5u-eFdhqln",
        "outputId": "b7490e9d-c12d-4f00-ac76-8e55165c6f65"
      },
      "execution_count": 23,
      "outputs": [
        {
          "output_type": "display_data",
          "data": {
            "text/plain": [
              "tokenizer.pkl:   0%|          | 0.00/33.5k [00:00<?, ?B/s]"
            ],
            "application/vnd.jupyter.widget-view+json": {
              "version_major": 2,
              "version_minor": 0,
              "model_id": "13bd59879cac43ff9d0db582186587a3"
            }
          },
          "metadata": {}
        },
        {
          "output_type": "stream",
          "name": "stdout",
          "text": [
            "Model and tokenizer loaded successfully!\n",
            "\u001b[1m1/1\u001b[0m \u001b[32m━━━━━━━━━━━━━━━━━━━━\u001b[0m\u001b[37m\u001b[0m \u001b[1m0s\u001b[0m 170ms/step\n",
            "Prompt: How to improve focus and concentration?\n",
            "Predicted Rating: 0.00\n",
            "--------------------------------------------------\n",
            "Prompt: What are the side effects of lack of sleep?\n",
            "Predicted Rating: 0.00\n",
            "--------------------------------------------------\n"
          ]
        }
      ]
    }
  ]
}