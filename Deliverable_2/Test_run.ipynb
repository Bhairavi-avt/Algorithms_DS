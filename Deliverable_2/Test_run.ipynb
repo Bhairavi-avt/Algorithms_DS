{
  "nbformat": 4,
  "nbformat_minor": 0,
  "metadata": {
    "colab": {
      "provenance": []
    },
    "kernelspec": {
      "name": "python3",
      "display_name": "Python 3"
    },
    "language_info": {
      "name": "python"
    }
  },
  "cells": [
    {
      "cell_type": "code",
      "execution_count": null,
      "metadata": {
        "id": "1uUUxm17TxbV"
      },
      "outputs": [],
      "source": [
        "from Deliverable2 import *\n",
        "import json\n",
        "\n",
        "# Instantiate the URLValidator class\n",
        "serp_api_key = \"Your_Serp_API\"  # Replace with your SERP API key\n",
        "validator = URLValidator(serp_api_key)\n",
        "\n",
        "# Define user prompt and URL\n",
        "user_prompt = \"What are the basics of Python programming? Is this tutorial good for beginners?\"\n",
        "url_to_check = \"https://www.geeksforgeeks.org/python-programming-language-tutorial/\"\n",
        "\n",
        "# Run the validation\n",
        "result = validator.rate_url_validity(user_prompt, url_to_check)\n",
        "\n",
        "# Print the results in JSON format\n",
        "print(json.dumps(result, indent=2))"
      ]
    }
  ]
}